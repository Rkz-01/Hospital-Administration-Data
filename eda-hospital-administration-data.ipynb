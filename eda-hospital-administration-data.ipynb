{
 "cells": [
  {
   "cell_type": "code",
   "execution_count": 1,
   "id": "ce0ab67b",
   "metadata": {
    "_cell_guid": "b1076dfc-b9ad-4769-8c92-a6c4dae69d19",
    "_uuid": "8f2839f25d086af736a60e9eeb907d3b93b6e0e5",
    "execution": {
     "iopub.execute_input": "2024-06-15T15:09:52.220727Z",
     "iopub.status.busy": "2024-06-15T15:09:52.220296Z",
     "iopub.status.idle": "2024-06-15T15:09:55.711933Z",
     "shell.execute_reply": "2024-06-15T15:09:55.709557Z"
    },
    "papermill": {
     "duration": 3.506665,
     "end_time": "2024-06-15T15:09:55.715342",
     "exception": false,
     "start_time": "2024-06-15T15:09:52.208677",
     "status": "completed"
    },
    "tags": []
   },
   "outputs": [
    {
     "name": "stdout",
     "output_type": "stream",
     "text": [
      "/kaggle/input/hospital-administration-data/HA Data.csv\n"
     ]
    }
   ],
   "source": [
    "# This Python 3 environment comes with many helpful analytics libraries installed\n",
    "# It is defined by the kaggle/python Docker image: https://github.com/kaggle/docker-python\n",
    "# For example, here's several helpful packages to load\n",
    "\n",
    "import numpy as np # linear algebra\n",
    "import pandas as pd # data processing, CSV file I/O (e.g. pd.read_csv)\n",
    "\n",
    "# Input data files are available in the read-only \"../input/\" directory\n",
    "# For example, running this (by clicking run or pressing Shift+Enter) will list all files under the input directory\n",
    "\n",
    "import os\n",
    "for dirname, _, filenames in os.walk('/kaggle/input'):\n",
    "    for filename in filenames:\n",
    "        print(os.path.join(dirname, filename))\n",
    "\n",
    "# You can write up to 20GB to the current directory (/kaggle/working/) that gets preserved as output when you create a version using \"Save & Run All\" \n",
    "# You can also write temporary files to /kaggle/temp/, but they won't be saved outside of the current session\n",
    "import matplotlib.pyplot as plt\n",
    "%matplotlib inline\n",
    "import plotly.express as px\n",
    "import plotly.subplots as sp\n",
    "import warnings\n",
    "warnings.simplefilter(action='ignore', category=FutureWarning)\n",
    "import seaborn as sns\n",
    "sns.set_style('whitegrid')\n",
    "plt.rcParams['axes.facecolor'] = 'black'       \n",
    "plt.rcParams['figure.facecolor'] = 'black'     \n",
    "plt.rcParams['axes.edgecolor'] = 'white'       \n",
    "plt.rcParams['grid.color'] = 'gray'            \n",
    "plt.rcParams['xtick.color'] = 'white'          \n",
    "plt.rcParams['ytick.color'] = 'white'          \n",
    "plt.rcParams['axes.labelcolor'] = 'white'      \n",
    "plt.rcParams['text.color'] = 'white'           \n",
    "plt.rcParams['legend.facecolor'] = 'black'     \n",
    "plt.rcParams['legend.edgecolor'] = 'white'"
   ]
  },
  {
   "cell_type": "markdown",
   "id": "418803b3",
   "metadata": {
    "papermill": {
     "duration": 0.014048,
     "end_time": "2024-06-15T15:09:55.743324",
     "exception": false,
     "start_time": "2024-06-15T15:09:55.729276",
     "status": "completed"
    },
    "tags": []
   },
   "source": [
    "**Background:**\n",
    "Scenario: You are a data analyst in a large hospital's administration department in Novartis, focusing on improving patient care while reducing unnecessary readmissions. Recently, the hospital has seen a spike in readmission rates, leading to increased healthcare costs and indicating potential quality of care issues. The administration is concerned about the impact on patient outcomes and the hospital's reputation. Your task is to analyze hospital admission data to identify patterns and factors associated with high readmission rates.\n",
    "\n",
    "**Problem Statement**\n",
    "Addressing high readmission rates is crucial for enhancing patient care quality, optimizing hospital resource allocation, and complying with healthcare regulations. Identifying the underlying causes can lead to targeted interventions, improved patient outcomes, and potentially significant cost savings.\n"
   ]
  },
  {
   "cell_type": "markdown",
   "id": "af2a49a7",
   "metadata": {
    "papermill": {
     "duration": 0.01117,
     "end_time": "2024-06-15T15:09:55.765110",
     "exception": false,
     "start_time": "2024-06-15T15:09:55.753940",
     "status": "completed"
    },
    "tags": []
   },
   "source": [
    "**Data Dictionary**\n",
    "* encounter_id: Unique identifier of an encounter\n",
    "* patient_id: Unique identifier of a patient\n",
    "* race, gender, age: Demographic information\n",
    "* weight: Patient's weight (mostly missing, denoted by ?)\n",
    "* time_in_hospital: Length of hospital stay in days\n",
    "* medical_specialty: Specialty of the admitting physician\n",
    "* num_lab_procedures: Number of lab tests performed\n",
    "* num_procedures: Number of procedures (other than lab tests) performed\n",
    "* num_medications: Number of distinct medications prescribed\n",
    "* number_outpatient, number_emergency, number_inpatient: Number of outpatient, emergency, and inpatient visits in the year preceding the encounter\n",
    "* diag_1 to diag_5: Primary and secondary diagnoses codes\n",
    "* number_diagnoses: Number of diagnoses entered into the system\n",
    "* X1 to X25: Indicators for various medications (specifics not provided)\n",
    "* change: Indicates if there was a change in diabetic medications (Yes = change, No = no change)\n",
    "* diabetesMed: Indicates if any diabetic medication was prescribed (Yes, No)\n",
    "* readmitted: Indicates if the patient was readmitted (<30 days = 1, else = 0)\n"
   ]
  },
  {
   "cell_type": "code",
   "execution_count": 2,
   "id": "3ecb1182",
   "metadata": {
    "execution": {
     "iopub.execute_input": "2024-06-15T15:09:55.790088Z",
     "iopub.status.busy": "2024-06-15T15:09:55.789418Z",
     "iopub.status.idle": "2024-06-15T15:09:56.552208Z",
     "shell.execute_reply": "2024-06-15T15:09:56.549894Z"
    },
    "papermill": {
     "duration": 0.779596,
     "end_time": "2024-06-15T15:09:56.555564",
     "exception": false,
     "start_time": "2024-06-15T15:09:55.775968",
     "status": "completed"
    },
    "tags": []
   },
   "outputs": [],
   "source": [
    "hospital = pd.read_csv('/kaggle/input/hospital-administration-data/HA Data.csv')"
   ]
  },
  {
   "cell_type": "code",
   "execution_count": 3,
   "id": "2b581101",
   "metadata": {
    "execution": {
     "iopub.execute_input": "2024-06-15T15:09:56.580857Z",
     "iopub.status.busy": "2024-06-15T15:09:56.580404Z",
     "iopub.status.idle": "2024-06-15T15:09:56.627665Z",
     "shell.execute_reply": "2024-06-15T15:09:56.626407Z"
    },
    "papermill": {
     "duration": 0.063006,
     "end_time": "2024-06-15T15:09:56.630699",
     "exception": false,
     "start_time": "2024-06-15T15:09:56.567693",
     "status": "completed"
    },
    "tags": []
   },
   "outputs": [
    {
     "data": {
      "text/html": [
       "<div>\n",
       "<style scoped>\n",
       "    .dataframe tbody tr th:only-of-type {\n",
       "        vertical-align: middle;\n",
       "    }\n",
       "\n",
       "    .dataframe tbody tr th {\n",
       "        vertical-align: top;\n",
       "    }\n",
       "\n",
       "    .dataframe thead th {\n",
       "        text-align: right;\n",
       "    }\n",
       "</style>\n",
       "<table border=\"1\" class=\"dataframe\">\n",
       "  <thead>\n",
       "    <tr style=\"text-align: right;\">\n",
       "      <th></th>\n",
       "      <th>index</th>\n",
       "      <th>encounter_id</th>\n",
       "      <th>patient_id</th>\n",
       "      <th>race</th>\n",
       "      <th>gender</th>\n",
       "      <th>age</th>\n",
       "      <th>weight</th>\n",
       "      <th>time_in_hospital</th>\n",
       "      <th>medical_specialty</th>\n",
       "      <th>num_lab_procedures</th>\n",
       "      <th>...</th>\n",
       "      <th>X19</th>\n",
       "      <th>X20</th>\n",
       "      <th>X21</th>\n",
       "      <th>X22</th>\n",
       "      <th>X23</th>\n",
       "      <th>X24</th>\n",
       "      <th>X25</th>\n",
       "      <th>change</th>\n",
       "      <th>diabetesMed</th>\n",
       "      <th>readmitted</th>\n",
       "    </tr>\n",
       "  </thead>\n",
       "  <tbody>\n",
       "    <tr>\n",
       "      <th>0</th>\n",
       "      <td>69375</td>\n",
       "      <td>197029140</td>\n",
       "      <td>51521940</td>\n",
       "      <td>Hispanic</td>\n",
       "      <td>Male</td>\n",
       "      <td>[80-90)</td>\n",
       "      <td>?</td>\n",
       "      <td>4</td>\n",
       "      <td>Emergency/Trauma</td>\n",
       "      <td>39</td>\n",
       "      <td>...</td>\n",
       "      <td>No</td>\n",
       "      <td>No</td>\n",
       "      <td>No</td>\n",
       "      <td>No</td>\n",
       "      <td>No</td>\n",
       "      <td>No</td>\n",
       "      <td>No</td>\n",
       "      <td>No</td>\n",
       "      <td>Yes</td>\n",
       "      <td>1</td>\n",
       "    </tr>\n",
       "    <tr>\n",
       "      <th>1</th>\n",
       "      <td>57272</td>\n",
       "      <td>163571946</td>\n",
       "      <td>92631357</td>\n",
       "      <td>Caucasian</td>\n",
       "      <td>Male</td>\n",
       "      <td>[60-70)</td>\n",
       "      <td>?</td>\n",
       "      <td>3</td>\n",
       "      <td>Emergency/Trauma</td>\n",
       "      <td>34</td>\n",
       "      <td>...</td>\n",
       "      <td>No</td>\n",
       "      <td>No</td>\n",
       "      <td>No</td>\n",
       "      <td>No</td>\n",
       "      <td>No</td>\n",
       "      <td>No</td>\n",
       "      <td>No</td>\n",
       "      <td>No</td>\n",
       "      <td>No</td>\n",
       "      <td>0</td>\n",
       "    </tr>\n",
       "    <tr>\n",
       "      <th>2</th>\n",
       "      <td>82347</td>\n",
       "      <td>256497366</td>\n",
       "      <td>30023982</td>\n",
       "      <td>Caucasian</td>\n",
       "      <td>Female</td>\n",
       "      <td>[50-60)</td>\n",
       "      <td>?</td>\n",
       "      <td>6</td>\n",
       "      <td>Nephrology</td>\n",
       "      <td>50</td>\n",
       "      <td>...</td>\n",
       "      <td>No</td>\n",
       "      <td>Down</td>\n",
       "      <td>No</td>\n",
       "      <td>No</td>\n",
       "      <td>No</td>\n",
       "      <td>No</td>\n",
       "      <td>No</td>\n",
       "      <td>Ch</td>\n",
       "      <td>Yes</td>\n",
       "      <td>1</td>\n",
       "    </tr>\n",
       "    <tr>\n",
       "      <th>3</th>\n",
       "      <td>89608</td>\n",
       "      <td>289891212</td>\n",
       "      <td>93606021</td>\n",
       "      <td>AfricanAmerican</td>\n",
       "      <td>Female</td>\n",
       "      <td>[70-80)</td>\n",
       "      <td>?</td>\n",
       "      <td>5</td>\n",
       "      <td>?</td>\n",
       "      <td>63</td>\n",
       "      <td>...</td>\n",
       "      <td>No</td>\n",
       "      <td>Down</td>\n",
       "      <td>No</td>\n",
       "      <td>No</td>\n",
       "      <td>No</td>\n",
       "      <td>No</td>\n",
       "      <td>No</td>\n",
       "      <td>Ch</td>\n",
       "      <td>Yes</td>\n",
       "      <td>1</td>\n",
       "    </tr>\n",
       "    <tr>\n",
       "      <th>4</th>\n",
       "      <td>24091</td>\n",
       "      <td>81873900</td>\n",
       "      <td>23464296</td>\n",
       "      <td>Caucasian</td>\n",
       "      <td>Male</td>\n",
       "      <td>[70-80)</td>\n",
       "      <td>?</td>\n",
       "      <td>9</td>\n",
       "      <td>Psychiatry</td>\n",
       "      <td>17</td>\n",
       "      <td>...</td>\n",
       "      <td>No</td>\n",
       "      <td>No</td>\n",
       "      <td>No</td>\n",
       "      <td>No</td>\n",
       "      <td>No</td>\n",
       "      <td>No</td>\n",
       "      <td>No</td>\n",
       "      <td>No</td>\n",
       "      <td>No</td>\n",
       "      <td>1</td>\n",
       "    </tr>\n",
       "  </tbody>\n",
       "</table>\n",
       "<p>5 rows × 49 columns</p>\n",
       "</div>"
      ],
      "text/plain": [
       "   index  encounter_id  patient_id             race  gender      age weight  \\\n",
       "0  69375     197029140    51521940         Hispanic    Male  [80-90)      ?   \n",
       "1  57272     163571946    92631357        Caucasian    Male  [60-70)      ?   \n",
       "2  82347     256497366    30023982        Caucasian  Female  [50-60)      ?   \n",
       "3  89608     289891212    93606021  AfricanAmerican  Female  [70-80)      ?   \n",
       "4  24091      81873900    23464296        Caucasian    Male  [70-80)      ?   \n",
       "\n",
       "   time_in_hospital medical_specialty  num_lab_procedures  ...  X19   X20  \\\n",
       "0                 4  Emergency/Trauma                  39  ...   No    No   \n",
       "1                 3  Emergency/Trauma                  34  ...   No    No   \n",
       "2                 6        Nephrology                  50  ...   No  Down   \n",
       "3                 5                 ?                  63  ...   No  Down   \n",
       "4                 9        Psychiatry                  17  ...   No    No   \n",
       "\n",
       "   X21  X22  X23 X24 X25 change diabetesMed  readmitted  \n",
       "0   No   No   No  No  No     No         Yes           1  \n",
       "1   No   No   No  No  No     No          No           0  \n",
       "2   No   No   No  No  No     Ch         Yes           1  \n",
       "3   No   No   No  No  No     Ch         Yes           1  \n",
       "4   No   No   No  No  No     No          No           1  \n",
       "\n",
       "[5 rows x 49 columns]"
      ]
     },
     "execution_count": 3,
     "metadata": {},
     "output_type": "execute_result"
    }
   ],
   "source": [
    "hospital.head()"
   ]
  },
  {
   "cell_type": "code",
   "execution_count": 4,
   "id": "e8494e4c",
   "metadata": {
    "execution": {
     "iopub.execute_input": "2024-06-15T15:09:56.655293Z",
     "iopub.status.busy": "2024-06-15T15:09:56.653961Z",
     "iopub.status.idle": "2024-06-15T15:09:56.681776Z",
     "shell.execute_reply": "2024-06-15T15:09:56.680346Z"
    },
    "papermill": {
     "duration": 0.043576,
     "end_time": "2024-06-15T15:09:56.685123",
     "exception": false,
     "start_time": "2024-06-15T15:09:56.641547",
     "status": "completed"
    },
    "tags": []
   },
   "outputs": [
    {
     "data": {
      "text/html": [
       "<div>\n",
       "<style scoped>\n",
       "    .dataframe tbody tr th:only-of-type {\n",
       "        vertical-align: middle;\n",
       "    }\n",
       "\n",
       "    .dataframe tbody tr th {\n",
       "        vertical-align: top;\n",
       "    }\n",
       "\n",
       "    .dataframe thead th {\n",
       "        text-align: right;\n",
       "    }\n",
       "</style>\n",
       "<table border=\"1\" class=\"dataframe\">\n",
       "  <thead>\n",
       "    <tr style=\"text-align: right;\">\n",
       "      <th></th>\n",
       "      <th>index</th>\n",
       "      <th>encounter_id</th>\n",
       "      <th>patient_id</th>\n",
       "      <th>race</th>\n",
       "      <th>gender</th>\n",
       "      <th>age</th>\n",
       "      <th>weight</th>\n",
       "      <th>time_in_hospital</th>\n",
       "      <th>medical_specialty</th>\n",
       "      <th>num_lab_procedures</th>\n",
       "      <th>...</th>\n",
       "      <th>X19</th>\n",
       "      <th>X20</th>\n",
       "      <th>X21</th>\n",
       "      <th>X22</th>\n",
       "      <th>X23</th>\n",
       "      <th>X24</th>\n",
       "      <th>X25</th>\n",
       "      <th>change</th>\n",
       "      <th>diabetesMed</th>\n",
       "      <th>readmitted</th>\n",
       "    </tr>\n",
       "  </thead>\n",
       "  <tbody>\n",
       "    <tr>\n",
       "      <th>66582</th>\n",
       "      <td>39934</td>\n",
       "      <td>124202466</td>\n",
       "      <td>23450508</td>\n",
       "      <td>Caucasian</td>\n",
       "      <td>Female</td>\n",
       "      <td>[70-80)</td>\n",
       "      <td>?</td>\n",
       "      <td>11</td>\n",
       "      <td>InternalMedicine</td>\n",
       "      <td>40</td>\n",
       "      <td>...</td>\n",
       "      <td>No</td>\n",
       "      <td>Steady</td>\n",
       "      <td>No</td>\n",
       "      <td>No</td>\n",
       "      <td>No</td>\n",
       "      <td>No</td>\n",
       "      <td>No</td>\n",
       "      <td>No</td>\n",
       "      <td>Yes</td>\n",
       "      <td>0</td>\n",
       "    </tr>\n",
       "    <tr>\n",
       "      <th>66583</th>\n",
       "      <td>47366</td>\n",
       "      <td>145667070</td>\n",
       "      <td>29324601</td>\n",
       "      <td>Caucasian</td>\n",
       "      <td>Male</td>\n",
       "      <td>[80-90)</td>\n",
       "      <td>?</td>\n",
       "      <td>4</td>\n",
       "      <td>?</td>\n",
       "      <td>39</td>\n",
       "      <td>...</td>\n",
       "      <td>No</td>\n",
       "      <td>No</td>\n",
       "      <td>No</td>\n",
       "      <td>No</td>\n",
       "      <td>No</td>\n",
       "      <td>No</td>\n",
       "      <td>No</td>\n",
       "      <td>No</td>\n",
       "      <td>No</td>\n",
       "      <td>1</td>\n",
       "    </tr>\n",
       "    <tr>\n",
       "      <th>66584</th>\n",
       "      <td>76555</td>\n",
       "      <td>231061116</td>\n",
       "      <td>2179062</td>\n",
       "      <td>Caucasian</td>\n",
       "      <td>Female</td>\n",
       "      <td>[60-70)</td>\n",
       "      <td>?</td>\n",
       "      <td>2</td>\n",
       "      <td>?</td>\n",
       "      <td>24</td>\n",
       "      <td>...</td>\n",
       "      <td>No</td>\n",
       "      <td>No</td>\n",
       "      <td>No</td>\n",
       "      <td>No</td>\n",
       "      <td>No</td>\n",
       "      <td>No</td>\n",
       "      <td>No</td>\n",
       "      <td>No</td>\n",
       "      <td>Yes</td>\n",
       "      <td>1</td>\n",
       "    </tr>\n",
       "    <tr>\n",
       "      <th>66585</th>\n",
       "      <td>25392</td>\n",
       "      <td>84911682</td>\n",
       "      <td>20531754</td>\n",
       "      <td>?</td>\n",
       "      <td>Female</td>\n",
       "      <td>[80-90)</td>\n",
       "      <td>?</td>\n",
       "      <td>4</td>\n",
       "      <td>InternalMedicine</td>\n",
       "      <td>39</td>\n",
       "      <td>...</td>\n",
       "      <td>No</td>\n",
       "      <td>No</td>\n",
       "      <td>No</td>\n",
       "      <td>No</td>\n",
       "      <td>No</td>\n",
       "      <td>No</td>\n",
       "      <td>No</td>\n",
       "      <td>No</td>\n",
       "      <td>No</td>\n",
       "      <td>0</td>\n",
       "    </tr>\n",
       "    <tr>\n",
       "      <th>66586</th>\n",
       "      <td>51312</td>\n",
       "      <td>153167502</td>\n",
       "      <td>81985473</td>\n",
       "      <td>Caucasian</td>\n",
       "      <td>Female</td>\n",
       "      <td>[80-90)</td>\n",
       "      <td>?</td>\n",
       "      <td>2</td>\n",
       "      <td>?</td>\n",
       "      <td>38</td>\n",
       "      <td>...</td>\n",
       "      <td>No</td>\n",
       "      <td>Steady</td>\n",
       "      <td>No</td>\n",
       "      <td>No</td>\n",
       "      <td>No</td>\n",
       "      <td>No</td>\n",
       "      <td>No</td>\n",
       "      <td>Ch</td>\n",
       "      <td>Yes</td>\n",
       "      <td>1</td>\n",
       "    </tr>\n",
       "  </tbody>\n",
       "</table>\n",
       "<p>5 rows × 49 columns</p>\n",
       "</div>"
      ],
      "text/plain": [
       "       index  encounter_id  patient_id       race  gender      age weight  \\\n",
       "66582  39934     124202466    23450508  Caucasian  Female  [70-80)      ?   \n",
       "66583  47366     145667070    29324601  Caucasian    Male  [80-90)      ?   \n",
       "66584  76555     231061116     2179062  Caucasian  Female  [60-70)      ?   \n",
       "66585  25392      84911682    20531754          ?  Female  [80-90)      ?   \n",
       "66586  51312     153167502    81985473  Caucasian  Female  [80-90)      ?   \n",
       "\n",
       "       time_in_hospital medical_specialty  num_lab_procedures  ...  X19  \\\n",
       "66582                11  InternalMedicine                  40  ...   No   \n",
       "66583                 4                 ?                  39  ...   No   \n",
       "66584                 2                 ?                  24  ...   No   \n",
       "66585                 4  InternalMedicine                  39  ...   No   \n",
       "66586                 2                 ?                  38  ...   No   \n",
       "\n",
       "          X20  X21  X22  X23 X24 X25 change diabetesMed  readmitted  \n",
       "66582  Steady   No   No   No  No  No     No         Yes           0  \n",
       "66583      No   No   No   No  No  No     No          No           1  \n",
       "66584      No   No   No   No  No  No     No         Yes           1  \n",
       "66585      No   No   No   No  No  No     No          No           0  \n",
       "66586  Steady   No   No   No  No  No     Ch         Yes           1  \n",
       "\n",
       "[5 rows x 49 columns]"
      ]
     },
     "execution_count": 4,
     "metadata": {},
     "output_type": "execute_result"
    }
   ],
   "source": [
    "hospital.tail()"
   ]
  },
  {
   "cell_type": "code",
   "execution_count": 5,
   "id": "3901681e",
   "metadata": {
    "execution": {
     "iopub.execute_input": "2024-06-15T15:09:56.711503Z",
     "iopub.status.busy": "2024-06-15T15:09:56.711061Z",
     "iopub.status.idle": "2024-06-15T15:09:56.720360Z",
     "shell.execute_reply": "2024-06-15T15:09:56.719225Z"
    },
    "papermill": {
     "duration": 0.027511,
     "end_time": "2024-06-15T15:09:56.723564",
     "exception": false,
     "start_time": "2024-06-15T15:09:56.696053",
     "status": "completed"
    },
    "tags": []
   },
   "outputs": [
    {
     "data": {
      "text/plain": [
       "(66587, 49)"
      ]
     },
     "execution_count": 5,
     "metadata": {},
     "output_type": "execute_result"
    }
   ],
   "source": [
    "hospital.shape"
   ]
  },
  {
   "cell_type": "code",
   "execution_count": 6,
   "id": "86c4c903",
   "metadata": {
    "execution": {
     "iopub.execute_input": "2024-06-15T15:09:56.748367Z",
     "iopub.status.busy": "2024-06-15T15:09:56.747961Z",
     "iopub.status.idle": "2024-06-15T15:09:56.757752Z",
     "shell.execute_reply": "2024-06-15T15:09:56.756331Z"
    },
    "papermill": {
     "duration": 0.026281,
     "end_time": "2024-06-15T15:09:56.761310",
     "exception": false,
     "start_time": "2024-06-15T15:09:56.735029",
     "status": "completed"
    },
    "tags": []
   },
   "outputs": [
    {
     "data": {
      "text/plain": [
       "Index(['index', 'encounter_id', 'patient_id', 'race', 'gender', 'age',\n",
       "       'weight', 'time_in_hospital', 'medical_specialty', 'num_lab_procedures',\n",
       "       'num_procedures', 'num_medications', 'number_outpatient',\n",
       "       'number_emergency', 'number_inpatient', 'diag_1', 'diag_2', 'diag_3',\n",
       "       'diag_4', 'diag_5', 'number_diagnoses', 'X1', 'X2', 'X3', 'X4', 'X5',\n",
       "       'X6', 'X7', 'X8', 'X9', 'X10', 'X11', 'X12', 'X13', 'X14', 'X15', 'X16',\n",
       "       'X17', 'X18', 'X19', 'X20', 'X21', 'X22', 'X23', 'X24', 'X25', 'change',\n",
       "       'diabetesMed', 'readmitted'],\n",
       "      dtype='object')"
      ]
     },
     "execution_count": 6,
     "metadata": {},
     "output_type": "execute_result"
    }
   ],
   "source": [
    "hospital.columns"
   ]
  },
  {
   "cell_type": "code",
   "execution_count": 7,
   "id": "31eb673f",
   "metadata": {
    "execution": {
     "iopub.execute_input": "2024-06-15T15:09:56.785976Z",
     "iopub.status.busy": "2024-06-15T15:09:56.785182Z",
     "iopub.status.idle": "2024-06-15T15:09:56.910336Z",
     "shell.execute_reply": "2024-06-15T15:09:56.908973Z"
    },
    "papermill": {
     "duration": 0.140281,
     "end_time": "2024-06-15T15:09:56.913031",
     "exception": false,
     "start_time": "2024-06-15T15:09:56.772750",
     "status": "completed"
    },
    "tags": []
   },
   "outputs": [
    {
     "data": {
      "text/plain": [
       "index                     0\n",
       "encounter_id              0\n",
       "patient_id                0\n",
       "race                      0\n",
       "gender                    0\n",
       "age                       0\n",
       "weight                    0\n",
       "time_in_hospital          0\n",
       "medical_specialty         0\n",
       "num_lab_procedures        0\n",
       "num_procedures            0\n",
       "num_medications           0\n",
       "number_outpatient         0\n",
       "number_emergency          0\n",
       "number_inpatient          0\n",
       "diag_1                    0\n",
       "diag_2                    0\n",
       "diag_3                    0\n",
       "diag_4                    0\n",
       "diag_5                    0\n",
       "number_diagnoses          0\n",
       "X1                    63104\n",
       "X2                    55451\n",
       "X3                        0\n",
       "X4                        0\n",
       "X5                        0\n",
       "X6                        0\n",
       "X7                        0\n",
       "X8                        0\n",
       "X9                        0\n",
       "X10                       0\n",
       "X11                       0\n",
       "X12                       0\n",
       "X13                       0\n",
       "X14                       0\n",
       "X15                       0\n",
       "X16                       0\n",
       "X17                       0\n",
       "X18                       0\n",
       "X19                       0\n",
       "X20                       0\n",
       "X21                       0\n",
       "X22                       0\n",
       "X23                       0\n",
       "X24                       0\n",
       "X25                       0\n",
       "change                    0\n",
       "diabetesMed               0\n",
       "readmitted                0\n",
       "dtype: int64"
      ]
     },
     "execution_count": 7,
     "metadata": {},
     "output_type": "execute_result"
    }
   ],
   "source": [
    "hospital.isna().sum()"
   ]
  },
  {
   "cell_type": "code",
   "execution_count": 8,
   "id": "68a14257",
   "metadata": {
    "execution": {
     "iopub.execute_input": "2024-06-15T15:09:56.939527Z",
     "iopub.status.busy": "2024-06-15T15:09:56.939052Z",
     "iopub.status.idle": "2024-06-15T15:09:57.082973Z",
     "shell.execute_reply": "2024-06-15T15:09:57.081066Z"
    },
    "papermill": {
     "duration": 0.161982,
     "end_time": "2024-06-15T15:09:57.087058",
     "exception": false,
     "start_time": "2024-06-15T15:09:56.925076",
     "status": "completed"
    },
    "tags": []
   },
   "outputs": [
    {
     "name": "stdout",
     "output_type": "stream",
     "text": [
      "<class 'pandas.core.frame.DataFrame'>\n",
      "RangeIndex: 66587 entries, 0 to 66586\n",
      "Data columns (total 49 columns):\n",
      " #   Column              Non-Null Count  Dtype  \n",
      "---  ------              --------------  -----  \n",
      " 0   index               66587 non-null  int64  \n",
      " 1   encounter_id        66587 non-null  int64  \n",
      " 2   patient_id          66587 non-null  int64  \n",
      " 3   race                66587 non-null  object \n",
      " 4   gender              66587 non-null  object \n",
      " 5   age                 66587 non-null  object \n",
      " 6   weight              66587 non-null  object \n",
      " 7   time_in_hospital    66587 non-null  int64  \n",
      " 8   medical_specialty   66587 non-null  object \n",
      " 9   num_lab_procedures  66587 non-null  int64  \n",
      " 10  num_procedures      66587 non-null  int64  \n",
      " 11  num_medications     66587 non-null  int64  \n",
      " 12  number_outpatient   66587 non-null  int64  \n",
      " 13  number_emergency    66587 non-null  int64  \n",
      " 14  number_inpatient    66587 non-null  int64  \n",
      " 15  diag_1              66587 non-null  object \n",
      " 16  diag_2              66587 non-null  object \n",
      " 17  diag_3              66587 non-null  object \n",
      " 18  diag_4              66587 non-null  object \n",
      " 19  diag_5              66587 non-null  float64\n",
      " 20  number_diagnoses    66587 non-null  int64  \n",
      " 21  X1                  3483 non-null   object \n",
      " 22  X2                  11136 non-null  object \n",
      " 23  X3                  66587 non-null  object \n",
      " 24  X4                  66587 non-null  object \n",
      " 25  X5                  66587 non-null  object \n",
      " 26  X6                  66587 non-null  object \n",
      " 27  X7                  66587 non-null  object \n",
      " 28  X8                  66587 non-null  object \n",
      " 29  X9                  66587 non-null  object \n",
      " 30  X10                 66587 non-null  object \n",
      " 31  X11                 66587 non-null  object \n",
      " 32  X12                 66587 non-null  object \n",
      " 33  X13                 66587 non-null  object \n",
      " 34  X14                 66587 non-null  object \n",
      " 35  X15                 66587 non-null  object \n",
      " 36  X16                 66587 non-null  object \n",
      " 37  X17                 66587 non-null  object \n",
      " 38  X18                 66587 non-null  object \n",
      " 39  X19                 66587 non-null  object \n",
      " 40  X20                 66587 non-null  object \n",
      " 41  X21                 66587 non-null  object \n",
      " 42  X22                 66587 non-null  object \n",
      " 43  X23                 66587 non-null  object \n",
      " 44  X24                 66587 non-null  object \n",
      " 45  X25                 66587 non-null  object \n",
      " 46  change              66587 non-null  object \n",
      " 47  diabetesMed         66587 non-null  object \n",
      " 48  readmitted          66587 non-null  int64  \n",
      "dtypes: float64(1), int64(12), object(36)\n",
      "memory usage: 24.9+ MB\n"
     ]
    }
   ],
   "source": [
    "hospital.info()"
   ]
  },
  {
   "cell_type": "code",
   "execution_count": 9,
   "id": "6a76ae9b",
   "metadata": {
    "execution": {
     "iopub.execute_input": "2024-06-15T15:09:57.115107Z",
     "iopub.status.busy": "2024-06-15T15:09:57.114688Z",
     "iopub.status.idle": "2024-06-15T15:09:57.206527Z",
     "shell.execute_reply": "2024-06-15T15:09:57.204997Z"
    },
    "papermill": {
     "duration": 0.109453,
     "end_time": "2024-06-15T15:09:57.209777",
     "exception": false,
     "start_time": "2024-06-15T15:09:57.100324",
     "status": "completed"
    },
    "tags": []
   },
   "outputs": [
    {
     "data": {
      "text/html": [
       "<div>\n",
       "<style scoped>\n",
       "    .dataframe tbody tr th:only-of-type {\n",
       "        vertical-align: middle;\n",
       "    }\n",
       "\n",
       "    .dataframe tbody tr th {\n",
       "        vertical-align: top;\n",
       "    }\n",
       "\n",
       "    .dataframe thead th {\n",
       "        text-align: right;\n",
       "    }\n",
       "</style>\n",
       "<table border=\"1\" class=\"dataframe\">\n",
       "  <thead>\n",
       "    <tr style=\"text-align: right;\">\n",
       "      <th></th>\n",
       "      <th>index</th>\n",
       "      <th>encounter_id</th>\n",
       "      <th>patient_id</th>\n",
       "      <th>time_in_hospital</th>\n",
       "      <th>num_lab_procedures</th>\n",
       "      <th>num_procedures</th>\n",
       "      <th>num_medications</th>\n",
       "      <th>number_outpatient</th>\n",
       "      <th>number_emergency</th>\n",
       "      <th>number_inpatient</th>\n",
       "      <th>diag_5</th>\n",
       "      <th>number_diagnoses</th>\n",
       "      <th>readmitted</th>\n",
       "    </tr>\n",
       "  </thead>\n",
       "  <tbody>\n",
       "    <tr>\n",
       "      <th>count</th>\n",
       "      <td>66587.000000</td>\n",
       "      <td>6.658700e+04</td>\n",
       "      <td>6.658700e+04</td>\n",
       "      <td>66587.000000</td>\n",
       "      <td>66587.000000</td>\n",
       "      <td>66587.000000</td>\n",
       "      <td>66587.000000</td>\n",
       "      <td>66587.000000</td>\n",
       "      <td>66587.000000</td>\n",
       "      <td>66587.000000</td>\n",
       "      <td>66587.000000</td>\n",
       "      <td>66587.000000</td>\n",
       "      <td>66587.000000</td>\n",
       "    </tr>\n",
       "    <tr>\n",
       "      <th>mean</th>\n",
       "      <td>50903.474282</td>\n",
       "      <td>1.653153e+08</td>\n",
       "      <td>5.422970e+07</td>\n",
       "      <td>4.397510</td>\n",
       "      <td>43.115533</td>\n",
       "      <td>1.331521</td>\n",
       "      <td>16.028744</td>\n",
       "      <td>0.365672</td>\n",
       "      <td>0.200460</td>\n",
       "      <td>0.637602</td>\n",
       "      <td>49.703387</td>\n",
       "      <td>7.424948</td>\n",
       "      <td>0.462012</td>\n",
       "    </tr>\n",
       "    <tr>\n",
       "      <th>std</th>\n",
       "      <td>29480.255515</td>\n",
       "      <td>1.030035e+08</td>\n",
       "      <td>3.878819e+07</td>\n",
       "      <td>2.980995</td>\n",
       "      <td>19.630417</td>\n",
       "      <td>1.705746</td>\n",
       "      <td>8.125304</td>\n",
       "      <td>1.221861</td>\n",
       "      <td>0.905503</td>\n",
       "      <td>1.255487</td>\n",
       "      <td>28.864879</td>\n",
       "      <td>1.933061</td>\n",
       "      <td>0.498559</td>\n",
       "    </tr>\n",
       "    <tr>\n",
       "      <th>min</th>\n",
       "      <td>0.000000</td>\n",
       "      <td>1.573800e+04</td>\n",
       "      <td>1.350000e+02</td>\n",
       "      <td>1.000000</td>\n",
       "      <td>1.000000</td>\n",
       "      <td>0.000000</td>\n",
       "      <td>1.000000</td>\n",
       "      <td>0.000000</td>\n",
       "      <td>0.000000</td>\n",
       "      <td>0.000000</td>\n",
       "      <td>0.000283</td>\n",
       "      <td>1.000000</td>\n",
       "      <td>0.000000</td>\n",
       "    </tr>\n",
       "    <tr>\n",
       "      <th>25%</th>\n",
       "      <td>25166.500000</td>\n",
       "      <td>8.440328e+07</td>\n",
       "      <td>2.338646e+07</td>\n",
       "      <td>2.000000</td>\n",
       "      <td>31.000000</td>\n",
       "      <td>0.000000</td>\n",
       "      <td>10.000000</td>\n",
       "      <td>0.000000</td>\n",
       "      <td>0.000000</td>\n",
       "      <td>0.000000</td>\n",
       "      <td>24.622056</td>\n",
       "      <td>6.000000</td>\n",
       "      <td>0.000000</td>\n",
       "    </tr>\n",
       "    <tr>\n",
       "      <th>50%</th>\n",
       "      <td>51129.000000</td>\n",
       "      <td>1.528504e+08</td>\n",
       "      <td>4.526103e+07</td>\n",
       "      <td>4.000000</td>\n",
       "      <td>44.000000</td>\n",
       "      <td>1.000000</td>\n",
       "      <td>15.000000</td>\n",
       "      <td>0.000000</td>\n",
       "      <td>0.000000</td>\n",
       "      <td>0.000000</td>\n",
       "      <td>49.508499</td>\n",
       "      <td>8.000000</td>\n",
       "      <td>0.000000</td>\n",
       "    </tr>\n",
       "    <tr>\n",
       "      <th>75%</th>\n",
       "      <td>76380.000000</td>\n",
       "      <td>2.305049e+08</td>\n",
       "      <td>8.727185e+07</td>\n",
       "      <td>6.000000</td>\n",
       "      <td>57.000000</td>\n",
       "      <td>2.000000</td>\n",
       "      <td>20.000000</td>\n",
       "      <td>0.000000</td>\n",
       "      <td>0.000000</td>\n",
       "      <td>1.000000</td>\n",
       "      <td>74.637294</td>\n",
       "      <td>9.000000</td>\n",
       "      <td>1.000000</td>\n",
       "    </tr>\n",
       "    <tr>\n",
       "      <th>max</th>\n",
       "      <td>101765.000000</td>\n",
       "      <td>4.438672e+08</td>\n",
       "      <td>1.893494e+08</td>\n",
       "      <td>14.000000</td>\n",
       "      <td>129.000000</td>\n",
       "      <td>6.000000</td>\n",
       "      <td>81.000000</td>\n",
       "      <td>39.000000</td>\n",
       "      <td>63.000000</td>\n",
       "      <td>19.000000</td>\n",
       "      <td>99.995810</td>\n",
       "      <td>16.000000</td>\n",
       "      <td>1.000000</td>\n",
       "    </tr>\n",
       "  </tbody>\n",
       "</table>\n",
       "</div>"
      ],
      "text/plain": [
       "               index  encounter_id    patient_id  time_in_hospital  \\\n",
       "count   66587.000000  6.658700e+04  6.658700e+04      66587.000000   \n",
       "mean    50903.474282  1.653153e+08  5.422970e+07          4.397510   \n",
       "std     29480.255515  1.030035e+08  3.878819e+07          2.980995   \n",
       "min         0.000000  1.573800e+04  1.350000e+02          1.000000   \n",
       "25%     25166.500000  8.440328e+07  2.338646e+07          2.000000   \n",
       "50%     51129.000000  1.528504e+08  4.526103e+07          4.000000   \n",
       "75%     76380.000000  2.305049e+08  8.727185e+07          6.000000   \n",
       "max    101765.000000  4.438672e+08  1.893494e+08         14.000000   \n",
       "\n",
       "       num_lab_procedures  num_procedures  num_medications  number_outpatient  \\\n",
       "count        66587.000000    66587.000000     66587.000000       66587.000000   \n",
       "mean            43.115533        1.331521        16.028744           0.365672   \n",
       "std             19.630417        1.705746         8.125304           1.221861   \n",
       "min              1.000000        0.000000         1.000000           0.000000   \n",
       "25%             31.000000        0.000000        10.000000           0.000000   \n",
       "50%             44.000000        1.000000        15.000000           0.000000   \n",
       "75%             57.000000        2.000000        20.000000           0.000000   \n",
       "max            129.000000        6.000000        81.000000          39.000000   \n",
       "\n",
       "       number_emergency  number_inpatient        diag_5  number_diagnoses  \\\n",
       "count      66587.000000      66587.000000  66587.000000      66587.000000   \n",
       "mean           0.200460          0.637602     49.703387          7.424948   \n",
       "std            0.905503          1.255487     28.864879          1.933061   \n",
       "min            0.000000          0.000000      0.000283          1.000000   \n",
       "25%            0.000000          0.000000     24.622056          6.000000   \n",
       "50%            0.000000          0.000000     49.508499          8.000000   \n",
       "75%            0.000000          1.000000     74.637294          9.000000   \n",
       "max           63.000000         19.000000     99.995810         16.000000   \n",
       "\n",
       "         readmitted  \n",
       "count  66587.000000  \n",
       "mean       0.462012  \n",
       "std        0.498559  \n",
       "min        0.000000  \n",
       "25%        0.000000  \n",
       "50%        0.000000  \n",
       "75%        1.000000  \n",
       "max        1.000000  "
      ]
     },
     "execution_count": 9,
     "metadata": {},
     "output_type": "execute_result"
    }
   ],
   "source": [
    "hospital.describe()"
   ]
  },
  {
   "cell_type": "code",
   "execution_count": 10,
   "id": "c8bf151a",
   "metadata": {
    "execution": {
     "iopub.execute_input": "2024-06-15T15:09:57.236771Z",
     "iopub.status.busy": "2024-06-15T15:09:57.236310Z",
     "iopub.status.idle": "2024-06-15T15:09:57.610242Z",
     "shell.execute_reply": "2024-06-15T15:09:57.608844Z"
    },
    "papermill": {
     "duration": 0.391362,
     "end_time": "2024-06-15T15:09:57.613475",
     "exception": false,
     "start_time": "2024-06-15T15:09:57.222113",
     "status": "completed"
    },
    "tags": []
   },
   "outputs": [
    {
     "data": {
      "text/html": [
       "<div>\n",
       "<style scoped>\n",
       "    .dataframe tbody tr th:only-of-type {\n",
       "        vertical-align: middle;\n",
       "    }\n",
       "\n",
       "    .dataframe tbody tr th {\n",
       "        vertical-align: top;\n",
       "    }\n",
       "\n",
       "    .dataframe thead th {\n",
       "        text-align: right;\n",
       "    }\n",
       "</style>\n",
       "<table border=\"1\" class=\"dataframe\">\n",
       "  <thead>\n",
       "    <tr style=\"text-align: right;\">\n",
       "      <th></th>\n",
       "      <th>race</th>\n",
       "      <th>gender</th>\n",
       "      <th>age</th>\n",
       "      <th>weight</th>\n",
       "      <th>medical_specialty</th>\n",
       "      <th>diag_1</th>\n",
       "      <th>diag_2</th>\n",
       "      <th>diag_3</th>\n",
       "      <th>diag_4</th>\n",
       "      <th>X1</th>\n",
       "      <th>...</th>\n",
       "      <th>X18</th>\n",
       "      <th>X19</th>\n",
       "      <th>X20</th>\n",
       "      <th>X21</th>\n",
       "      <th>X22</th>\n",
       "      <th>X23</th>\n",
       "      <th>X24</th>\n",
       "      <th>X25</th>\n",
       "      <th>change</th>\n",
       "      <th>diabetesMed</th>\n",
       "    </tr>\n",
       "  </thead>\n",
       "  <tbody>\n",
       "    <tr>\n",
       "      <th>count</th>\n",
       "      <td>66587</td>\n",
       "      <td>66587</td>\n",
       "      <td>66587</td>\n",
       "      <td>66587</td>\n",
       "      <td>66587</td>\n",
       "      <td>66587</td>\n",
       "      <td>66587</td>\n",
       "      <td>66587</td>\n",
       "      <td>66587</td>\n",
       "      <td>3483</td>\n",
       "      <td>...</td>\n",
       "      <td>66587</td>\n",
       "      <td>66587</td>\n",
       "      <td>66587</td>\n",
       "      <td>66587</td>\n",
       "      <td>66587</td>\n",
       "      <td>66587</td>\n",
       "      <td>66587</td>\n",
       "      <td>66587</td>\n",
       "      <td>66587</td>\n",
       "      <td>66587</td>\n",
       "    </tr>\n",
       "    <tr>\n",
       "      <th>unique</th>\n",
       "      <td>6</td>\n",
       "      <td>3</td>\n",
       "      <td>10</td>\n",
       "      <td>10</td>\n",
       "      <td>65</td>\n",
       "      <td>652</td>\n",
       "      <td>656</td>\n",
       "      <td>707</td>\n",
       "      <td>707</td>\n",
       "      <td>3</td>\n",
       "      <td>...</td>\n",
       "      <td>1</td>\n",
       "      <td>1</td>\n",
       "      <td>4</td>\n",
       "      <td>4</td>\n",
       "      <td>2</td>\n",
       "      <td>2</td>\n",
       "      <td>2</td>\n",
       "      <td>1</td>\n",
       "      <td>2</td>\n",
       "      <td>2</td>\n",
       "    </tr>\n",
       "    <tr>\n",
       "      <th>top</th>\n",
       "      <td>Caucasian</td>\n",
       "      <td>Female</td>\n",
       "      <td>[70-80)</td>\n",
       "      <td>?</td>\n",
       "      <td>?</td>\n",
       "      <td>428</td>\n",
       "      <td>276</td>\n",
       "      <td>250</td>\n",
       "      <td>250</td>\n",
       "      <td>Norm</td>\n",
       "      <td>...</td>\n",
       "      <td>No</td>\n",
       "      <td>No</td>\n",
       "      <td>No</td>\n",
       "      <td>No</td>\n",
       "      <td>No</td>\n",
       "      <td>No</td>\n",
       "      <td>No</td>\n",
       "      <td>No</td>\n",
       "      <td>No</td>\n",
       "      <td>Yes</td>\n",
       "    </tr>\n",
       "    <tr>\n",
       "      <th>freq</th>\n",
       "      <td>49906</td>\n",
       "      <td>35973</td>\n",
       "      <td>17031</td>\n",
       "      <td>64454</td>\n",
       "      <td>32672</td>\n",
       "      <td>4564</td>\n",
       "      <td>4420</td>\n",
       "      <td>7499</td>\n",
       "      <td>7499</td>\n",
       "      <td>1643</td>\n",
       "      <td>...</td>\n",
       "      <td>66587</td>\n",
       "      <td>66587</td>\n",
       "      <td>31175</td>\n",
       "      <td>66110</td>\n",
       "      <td>66575</td>\n",
       "      <td>66586</td>\n",
       "      <td>66582</td>\n",
       "      <td>66587</td>\n",
       "      <td>35894</td>\n",
       "      <td>51205</td>\n",
       "    </tr>\n",
       "  </tbody>\n",
       "</table>\n",
       "<p>4 rows × 36 columns</p>\n",
       "</div>"
      ],
      "text/plain": [
       "             race  gender      age weight medical_specialty diag_1 diag_2  \\\n",
       "count       66587   66587    66587  66587             66587  66587  66587   \n",
       "unique          6       3       10     10                65    652    656   \n",
       "top     Caucasian  Female  [70-80)      ?                 ?    428    276   \n",
       "freq        49906   35973    17031  64454             32672   4564   4420   \n",
       "\n",
       "       diag_3 diag_4    X1  ...    X18    X19    X20    X21    X22    X23  \\\n",
       "count   66587  66587  3483  ...  66587  66587  66587  66587  66587  66587   \n",
       "unique    707    707     3  ...      1      1      4      4      2      2   \n",
       "top       250    250  Norm  ...     No     No     No     No     No     No   \n",
       "freq     7499   7499  1643  ...  66587  66587  31175  66110  66575  66586   \n",
       "\n",
       "          X24    X25 change diabetesMed  \n",
       "count   66587  66587  66587       66587  \n",
       "unique      2      1      2           2  \n",
       "top        No     No     No         Yes  \n",
       "freq    66582  66587  35894       51205  \n",
       "\n",
       "[4 rows x 36 columns]"
      ]
     },
     "execution_count": 10,
     "metadata": {},
     "output_type": "execute_result"
    }
   ],
   "source": [
    "hospital.select_dtypes(include='object').describe()"
   ]
  },
  {
   "cell_type": "markdown",
   "id": "d06ec9ee",
   "metadata": {
    "papermill": {
     "duration": 0.015429,
     "end_time": "2024-06-15T15:09:57.642730",
     "exception": false,
     "start_time": "2024-06-15T15:09:57.627301",
     "status": "completed"
    },
    "tags": []
   },
   "source": [
    "**Recommended Analysis**"
   ]
  },
  {
   "cell_type": "markdown",
   "id": "b44f4ab6",
   "metadata": {
    "papermill": {
     "duration": 0.015787,
     "end_time": "2024-06-15T15:09:57.674655",
     "exception": false,
     "start_time": "2024-06-15T15:09:57.658868",
     "status": "completed"
    },
    "tags": []
   },
   "source": [
    "**1. What is the distribution of readmission rates across different age groups?**"
   ]
  },
  {
   "cell_type": "code",
   "execution_count": 11,
   "id": "13fbf29e",
   "metadata": {
    "execution": {
     "iopub.execute_input": "2024-06-15T15:09:57.708773Z",
     "iopub.status.busy": "2024-06-15T15:09:57.708375Z",
     "iopub.status.idle": "2024-06-15T15:09:58.227696Z",
     "shell.execute_reply": "2024-06-15T15:09:58.226479Z"
    },
    "papermill": {
     "duration": 0.538221,
     "end_time": "2024-06-15T15:09:58.230055",
     "exception": false,
     "start_time": "2024-06-15T15:09:57.691834",
     "status": "completed"
    },
    "tags": []
   },
   "outputs": [
    {
     "name": "stdout",
     "output_type": "stream",
     "text": [
      "        age  readmitted\n",
      "0    [0-10)          22\n",
      "1   [10-20)         178\n",
      "2   [20-30)         520\n",
      "3   [30-40)        1016\n",
      "4   [40-50)        2814\n",
      "5   [50-60)        5129\n",
      "6   [60-70)        6860\n",
      "7   [70-80)        8179\n",
      "8   [80-90)        5349\n",
      "9  [90-100)         697\n"
     ]
    },
    {
     "data": {
      "image/png": "[encoded data removed]",
      "text/plain": [
       "<Figure size 1120x480 with 1 Axes>"
      ]
     },
     "metadata": {},
     "output_type": "display_data"
    }
   ],
   "source": [
    "print(hospital.groupby('age')['readmitted'].sum().reset_index())\n",
    "\n",
    "age_groups = hospital.groupby('age')['readmitted'].sum()\n",
    "plt.figure(figsize=(14,6), dpi=80, frameon=True)\n",
    "\n",
    "sns.barplot(x=age_groups.index, y=age_groups.values, palette='Set3')\n",
    "plt.title('Distribution Of Readmission Rate By Age Groups', size=14)\n",
    "plt.ylabel('Readmission Rate')\n",
    "plt.xlabel('Age Groups')\n",
    "plt.show()"
   ]
  },
  {
   "cell_type": "markdown",
   "id": "39f87888",
   "metadata": {
    "papermill": {
     "duration": 0.013837,
     "end_time": "2024-06-15T15:09:58.257418",
     "exception": false,
     "start_time": "2024-06-15T15:09:58.243581",
     "status": "completed"
    },
    "tags": []
   },
   "source": [
    "**2. Analyze the average length of hospital stays by medical specialty. Which specialties have the longest and shortest average stays?**"
   ]
  },
  {
   "cell_type": "code",
   "execution_count": 12,
   "id": "83c6a169",
   "metadata": {
    "execution": {
     "iopub.execute_input": "2024-06-15T15:09:58.282847Z",
     "iopub.status.busy": "2024-06-15T15:09:58.282455Z",
     "iopub.status.idle": "2024-06-15T15:09:58.589082Z",
     "shell.execute_reply": "2024-06-15T15:09:58.587976Z"
    },
    "papermill": {
     "duration": 0.322255,
     "end_time": "2024-06-15T15:09:58.591470",
     "exception": false,
     "start_time": "2024-06-15T15:09:58.269215",
     "status": "completed"
    },
    "tags": []
   },
   "outputs": [
    {
     "name": "stdout",
     "output_type": "stream",
     "text": [
      "medical_specialty\n",
      "Pediatrics-Pulmonology               10.7\n",
      "PhysicalMedicineandRehabilitation     8.9\n",
      "OutreachServices                      8.2\n",
      "Pathology                             8.1\n",
      "Psychiatry-Addictive                  8.0\n",
      "Name: time_in_hospital, dtype: float64\n"
     ]
    },
    {
     "data": {
      "image/png": "[encoded data removed]",
      "text/plain": [
       "<Figure size 700x350 with 1 Axes>"
      ]
     },
     "metadata": {},
     "output_type": "display_data"
    }
   ],
   "source": [
    "avg_stays = hospital.groupby('medical_specialty')['time_in_hospital'].mean().round(decimals=1).sort_values(ascending=False).head()\n",
    "print(avg_stays)\n",
    "\n",
    "plt.figure(figsize=(10,5), dpi=70, frameon=True)\n",
    "sns.barplot(x=avg_stays.values, y=avg_stays.index , palette='gist_earth')\n",
    "plt.title('Average Length Of Longest Hospital Stays By Medical Specialty', size=14)\n",
    "plt.xlabel('No. Of Stay Days', size=10)\n",
    "plt.ylabel('Medical Specialty', size=10)\n",
    "plt.show()"
   ]
  },
  {
   "cell_type": "code",
   "execution_count": 13,
   "id": "9d1999a9",
   "metadata": {
    "execution": {
     "iopub.execute_input": "2024-06-15T15:09:58.618831Z",
     "iopub.status.busy": "2024-06-15T15:09:58.618427Z",
     "iopub.status.idle": "2024-06-15T15:09:59.015088Z",
     "shell.execute_reply": "2024-06-15T15:09:59.013949Z"
    },
    "papermill": {
     "duration": 0.414857,
     "end_time": "2024-06-15T15:09:59.019239",
     "exception": false,
     "start_time": "2024-06-15T15:09:58.604382",
     "status": "completed"
    },
    "tags": []
   },
   "outputs": [
    {
     "name": "stdout",
     "output_type": "stream",
     "text": [
      "medical_specialty\n",
      "DCPTEAM                           2.0\n",
      "Speech                            2.0\n",
      "Pediatrics-Hematology-Oncology    2.0\n",
      "Anesthesiology-Pediatric          1.7\n",
      "Pediatrics-EmergencyMedicine      1.0\n",
      "Name: time_in_hospital, dtype: float64\n"
     ]
    },
    {
     "data": {
      "image/png": "[encoded data removed]",
      "text/plain": [
       "<Figure size 700x350 with 1 Axes>"
      ]
     },
     "metadata": {},
     "output_type": "display_data"
    }
   ],
   "source": [
    "avg_stays1 = hospital.groupby('medical_specialty')['time_in_hospital'].mean().round(decimals=1).sort_values(ascending=False).tail()\n",
    "print(avg_stays1)\n",
    "\n",
    "plt.figure(figsize=(10,5), dpi=70, frameon=True)\n",
    "sns.barplot(x=avg_stays1.values, y=avg_stays1.index , palette='gist_earth')\n",
    "plt.title('Average Length Of Shortest Hospital Stays By Medical Specialty', size=14)\n",
    "plt.xlabel('No. Of Stay Days',size=10)\n",
    "plt.ylabel('Medical Specialty')\n",
    "plt.show()"
   ]
  },
  {
   "cell_type": "markdown",
   "id": "d5c4b7d7",
   "metadata": {
    "papermill": {
     "duration": 0.01869,
     "end_time": "2024-06-15T15:09:59.055867",
     "exception": false,
     "start_time": "2024-06-15T15:09:59.037177",
     "status": "completed"
    },
    "tags": []
   },
   "source": [
    "**3. How does the number of emergency visits in the previous year correlate with readmission rates?**"
   ]
  },
  {
   "cell_type": "code",
   "execution_count": 14,
   "id": "8c5237aa",
   "metadata": {
    "execution": {
     "iopub.execute_input": "2024-06-15T15:09:59.087259Z",
     "iopub.status.busy": "2024-06-15T15:09:59.086747Z",
     "iopub.status.idle": "2024-06-15T15:09:59.119530Z",
     "shell.execute_reply": "2024-06-15T15:09:59.118005Z"
    },
    "papermill": {
     "duration": 0.052221,
     "end_time": "2024-06-15T15:09:59.122547",
     "exception": false,
     "start_time": "2024-06-15T15:09:59.070326",
     "status": "completed"
    },
    "tags": []
   },
   "outputs": [
    {
     "name": "stdout",
     "output_type": "stream",
     "text": [
      "readmitted              0        1\n",
      "number_emergency                  \n",
      "0                 33064.0  26023.0\n",
      "1                  2113.0   3004.0\n",
      "2                   406.0    846.0\n",
      "3                   136.0    336.0\n",
      "4                    55.0    209.0\n",
      "5                    19.0    103.0\n",
      "6                    14.0     73.0\n",
      "7                     4.0     40.0\n",
      "8                     2.0     32.0\n",
      "9                     1.0     22.0\n",
      "10                    NaN     18.0\n",
      "11                    1.0     14.0\n",
      "12                    3.0      4.0\n",
      "13                    1.0      8.0\n",
      "15                    NaN      2.0\n",
      "16                    NaN      7.0\n",
      "18                    NaN      4.0\n",
      "19                    NaN      3.0\n",
      "20                    1.0      3.0\n",
      "21                    NaN      1.0\n",
      "22                    NaN      7.0\n",
      "24                    NaN      1.0\n",
      "25                    3.0      NaN\n",
      "28                    NaN      2.0\n",
      "46                    NaN      1.0\n",
      "63                    NaN      1.0\n"
     ]
    }
   ],
   "source": [
    "emergency_rate = hospital.pivot_table(index='number_emergency', columns='readmitted', values='patient_id', aggfunc='count')\n",
    "print(emergency_rate)"
   ]
  },
  {
   "cell_type": "code",
   "execution_count": 15,
   "id": "7d067d66",
   "metadata": {
    "execution": {
     "iopub.execute_input": "2024-06-15T15:09:59.158961Z",
     "iopub.status.busy": "2024-06-15T15:09:59.157746Z",
     "iopub.status.idle": "2024-06-15T15:09:59.531650Z",
     "shell.execute_reply": "2024-06-15T15:09:59.530250Z"
    },
    "papermill": {
     "duration": 0.393495,
     "end_time": "2024-06-15T15:09:59.534766",
     "exception": false,
     "start_time": "2024-06-15T15:09:59.141271",
     "status": "completed"
    },
    "tags": []
   },
   "outputs": [
    {
     "data": {
      "text/html": [
       "        <script type=\"text/javascript\">\n",
       "        window.PlotlyConfig = {MathJaxConfig: 'local'};\n",
       "        if (window.MathJax && window.MathJax.Hub && window.MathJax.Hub.Config) {window.MathJax.Hub.Config({SVG: {font: \"STIX-Web\"}});}\n",
       "        if (typeof require !== 'undefined') {\n",
       "        require.undef(\"plotly\");\n",
       "        requirejs.config({\n",
       "            paths: {\n",
       "                'plotly': ['https://cdn.plot.ly/plotly-2.27.0.min']\n",
       "            }\n",
       "        });\n",
       "        require(['plotly'], function(Plotly) {\n",
       "            window._Plotly = Plotly;\n",
       "        });\n",
       "        }\n",
       "        </script>\n",
       "        "
      ]
     },
     "metadata": {},
     "output_type": "display_data"
    },
    {
     "data": {
      "text/html": [
       "<div>                            <div id=\"e8be4b80-f2c2-4b46-a1a2-2d5a38a02044\" class=\"plotly-graph-div\" style=\"height:525px; width:100%;\"></div>            <script type=\"text/javascript\">                require([\"plotly\"], function(Plotly) {                    window.PLOTLYENV=window.PLOTLYENV || {};                                    if (document.getElementById(\"e8be4b80-f2c2-4b46-a1a2-2d5a38a02044\")) {                    Plotly.newPlot(                        \"e8be4b80-f2c2-4b46-a1a2-2d5a38a02044\",                        [{\"name\":\"0\",\"x\":[0,1,2,3,4,5,6,7,8,9,10,11,12,13,15,16,18,19,20,21,22,24,25,28,46,63],\"y\":[33064.0,2113.0,406.0,136.0,55.0,19.0,14.0,4.0,2.0,1.0,null,1.0,3.0,1.0,null,null,null,null,1.0,null,null,null,3.0,null,null,null],\"type\":\"bar\"},{\"name\":\"1\",\"x\":[0,1,2,3,4,5,6,7,8,9,10,11,12,13,15,16,18,19,20,21,22,24,25,28,46,63],\"y\":[26023.0,3004.0,846.0,336.0,209.0,103.0,73.0,40.0,32.0,22.0,18.0,14.0,4.0,8.0,2.0,7.0,4.0,3.0,3.0,1.0,7.0,1.0,null,2.0,1.0,1.0],\"type\":\"bar\"}],                        {\"template\":{\"data\":{\"histogram2dcontour\":[{\"type\":\"histogram2dcontour\",\"colorbar\":{\"outlinewidth\":0,\"ticks\":\"\"},\"colorscale\":[[0.0,\"#0d0887\"],[0.1111111111111111,\"#46039f\"],[0.2222222222222222,\"#7201a8\"],[0.3333333333333333,\"#9c179e\"],[0.4444444444444444,\"#bd3786\"],[0.5555555555555556,\"#d8576b\"],[0.6666666666666666,\"#ed7953\"],[0.7777777777777778,\"#fb9f3a\"],[0.8888888888888888,\"#fdca26\"],[1.0,\"#f0f921\"]]}],\"choropleth\":[{\"type\":\"choropleth\",\"colorbar\":{\"outlinewidth\":0,\"ticks\":\"\"}}],\"histogram2d\":[{\"type\":\"histogram2d\",\"colorbar\":{\"outlinewidth\":0,\"ticks\":\"\"},\"colorscale\":[[0.0,\"#0d0887\"],[0.1111111111111111,\"#46039f\"],[0.2222222222222222,\"#7201a8\"],[0.3333333333333333,\"#9c179e\"],[0.4444444444444444,\"#bd3786\"],[0.5555555555555556,\"#d8576b\"],[0.6666666666666666,\"#ed7953\"],[0.7777777777777778,\"#fb9f3a\"],[0.8888888888888888,\"#fdca26\"],[1.0,\"#f0f921\"]]}],\"heatmap\":[{\"type\":\"heatmap\",\"colorbar\":{\"outlinewidth\":0,\"ticks\":\"\"},\"colorscale\":[[0.0,\"#0d0887\"],[0.1111111111111111,\"#46039f\"],[0.2222222222222222,\"#7201a8\"],[0.3333333333333333,\"#9c179e\"],[0.4444444444444444,\"#bd3786\"],[0.5555555555555556,\"#d8576b\"],[0.6666666666666666,\"#ed7953\"],[0.7777777777777778,\"#fb9f3a\"],[0.8888888888888888,\"#fdca26\"],[1.0,\"#f0f921\"]]}],\"heatmapgl\":[{\"type\":\"heatmapgl\",\"colorbar\":{\"outlinewidth\":0,\"ticks\":\"\"},\"colorscale\":[[0.0,\"#0d0887\"],[0.1111111111111111,\"#46039f\"],[0.2222222222222222,\"#7201a8\"],[0.3333333333333333,\"#9c179e\"],[0.4444444444444444,\"#bd3786\"],[0.5555555555555556,\"#d8576b\"],[0.6666666666666666,\"#ed7953\"],[0.7777777777777778,\"#fb9f3a\"],[0.8888888888888888,\"#fdca26\"],[1.0,\"#f0f921\"]]}],\"contourcarpet\":[{\"type\":\"contourcarpet\",\"colorbar\":{\"outlinewidth\":0,\"ticks\":\"\"}}],\"contour\":[{\"type\":\"contour\",\"colorbar\":{\"outlinewidth\":0,\"ticks\":\"\"},\"colorscale\":[[0.0,\"#0d0887\"],[0.1111111111111111,\"#46039f\"],[0.2222222222222222,\"#7201a8\"],[0.3333333333333333,\"#9c179e\"],[0.4444444444444444,\"#bd3786\"],[0.5555555555555556,\"#d8576b\"],[0.6666666666666666,\"#ed7953\"],[0.7777777777777778,\"#fb9f3a\"],[0.8888888888888888,\"#fdca26\"],[1.0,\"#f0f921\"]]}],\"surface\":[{\"type\":\"surface\",\"colorbar\":{\"outlinewidth\":0,\"ticks\":\"\"},\"colorscale\":[[0.0,\"#0d0887\"],[0.1111111111111111,\"#46039f\"],[0.2222222222222222,\"#7201a8\"],[0.3333333333333333,\"#9c179e\"],[0.4444444444444444,\"#bd3786\"],[0.5555555555555556,\"#d8576b\"],[0.6666666666666666,\"#ed7953\"],[0.7777777777777778,\"#fb9f3a\"],[0.8888888888888888,\"#fdca26\"],[1.0,\"#f0f921\"]]}],\"mesh3d\":[{\"type\":\"mesh3d\",\"colorbar\":{\"outlinewidth\":0,\"ticks\":\"\"}}],\"scatter\":[{\"fillpattern\":{\"fillmode\":\"overlay\",\"size\":10,\"solidity\":0.2},\"type\":\"scatter\"}],\"parcoords\":[{\"type\":\"parcoords\",\"line\":{\"colorbar\":{\"outlinewidth\":0,\"ticks\":\"\"}}}],\"scatterpolargl\":[{\"type\":\"scatterpolargl\",\"marker\":{\"colorbar\":{\"outlinewidth\":0,\"ticks\":\"\"}}}],\"bar\":[{\"error_x\":{\"color\":\"#2a3f5f\"},\"error_y\":{\"color\":\"#2a3f5f\"},\"marker\":{\"line\":{\"color\":\"#E5ECF6\",\"width\":0.5},\"pattern\":{\"fillmode\":\"overlay\",\"size\":10,\"solidity\":0.2}},\"type\":\"bar\"}],\"scattergeo\":[{\"type\":\"scattergeo\",\"marker\":{\"colorbar\":{\"outlinewidth\":0,\"ticks\":\"\"}}}],\"scatterpolar\":[{\"type\":\"scatterpolar\",\"marker\":{\"colorbar\":{\"outlinewidth\":0,\"ticks\":\"\"}}}],\"histogram\":[{\"marker\":{\"pattern\":{\"fillmode\":\"overlay\",\"size\":10,\"solidity\":0.2}},\"type\":\"histogram\"}],\"scattergl\":[{\"type\":\"scattergl\",\"marker\":{\"colorbar\":{\"outlinewidth\":0,\"ticks\":\"\"}}}],\"scatter3d\":[{\"type\":\"scatter3d\",\"line\":{\"colorbar\":{\"outlinewidth\":0,\"ticks\":\"\"}},\"marker\":{\"colorbar\":{\"outlinewidth\":0,\"ticks\":\"\"}}}],\"scattermapbox\":[{\"type\":\"scattermapbox\",\"marker\":{\"colorbar\":{\"outlinewidth\":0,\"ticks\":\"\"}}}],\"scatterternary\":[{\"type\":\"scatterternary\",\"marker\":{\"colorbar\":{\"outlinewidth\":0,\"ticks\":\"\"}}}],\"scattercarpet\":[{\"type\":\"scattercarpet\",\"marker\":{\"colorbar\":{\"outlinewidth\":0,\"ticks\":\"\"}}}],\"carpet\":[{\"aaxis\":{\"endlinecolor\":\"#2a3f5f\",\"gridcolor\":\"white\",\"linecolor\":\"white\",\"minorgridcolor\":\"white\",\"startlinecolor\":\"#2a3f5f\"},\"baxis\":{\"endlinecolor\":\"#2a3f5f\",\"gridcolor\":\"white\",\"linecolor\":\"white\",\"minorgridcolor\":\"white\",\"startlinecolor\":\"#2a3f5f\"},\"type\":\"carpet\"}],\"table\":[{\"cells\":{\"fill\":{\"color\":\"#EBF0F8\"},\"line\":{\"color\":\"white\"}},\"header\":{\"fill\":{\"color\":\"#C8D4E3\"},\"line\":{\"color\":\"white\"}},\"type\":\"table\"}],\"barpolar\":[{\"marker\":{\"line\":{\"color\":\"#E5ECF6\",\"width\":0.5},\"pattern\":{\"fillmode\":\"overlay\",\"size\":10,\"solidity\":0.2}},\"type\":\"barpolar\"}],\"pie\":[{\"automargin\":true,\"type\":\"pie\"}]},\"layout\":{\"autotypenumbers\":\"strict\",\"colorway\":[\"#636efa\",\"#EF553B\",\"#00cc96\",\"#ab63fa\",\"#FFA15A\",\"#19d3f3\",\"#FF6692\",\"#B6E880\",\"#FF97FF\",\"#FECB52\"],\"font\":{\"color\":\"#2a3f5f\"},\"hovermode\":\"closest\",\"hoverlabel\":{\"align\":\"left\"},\"paper_bgcolor\":\"white\",\"plot_bgcolor\":\"#E5ECF6\",\"polar\":{\"bgcolor\":\"#E5ECF6\",\"angularaxis\":{\"gridcolor\":\"white\",\"linecolor\":\"white\",\"ticks\":\"\"},\"radialaxis\":{\"gridcolor\":\"white\",\"linecolor\":\"white\",\"ticks\":\"\"}},\"ternary\":{\"bgcolor\":\"#E5ECF6\",\"aaxis\":{\"gridcolor\":\"white\",\"linecolor\":\"white\",\"ticks\":\"\"},\"baxis\":{\"gridcolor\":\"white\",\"linecolor\":\"white\",\"ticks\":\"\"},\"caxis\":{\"gridcolor\":\"white\",\"linecolor\":\"white\",\"ticks\":\"\"}},\"coloraxis\":{\"colorbar\":{\"outlinewidth\":0,\"ticks\":\"\"}},\"colorscale\":{\"sequential\":[[0.0,\"#0d0887\"],[0.1111111111111111,\"#46039f\"],[0.2222222222222222,\"#7201a8\"],[0.3333333333333333,\"#9c179e\"],[0.4444444444444444,\"#bd3786\"],[0.5555555555555556,\"#d8576b\"],[0.6666666666666666,\"#ed7953\"],[0.7777777777777778,\"#fb9f3a\"],[0.8888888888888888,\"#fdca26\"],[1.0,\"#f0f921\"]],\"sequentialminus\":[[0.0,\"#0d0887\"],[0.1111111111111111,\"#46039f\"],[0.2222222222222222,\"#7201a8\"],[0.3333333333333333,\"#9c179e\"],[0.4444444444444444,\"#bd3786\"],[0.5555555555555556,\"#d8576b\"],[0.6666666666666666,\"#ed7953\"],[0.7777777777777778,\"#fb9f3a\"],[0.8888888888888888,\"#fdca26\"],[1.0,\"#f0f921\"]],\"diverging\":[[0,\"#8e0152\"],[0.1,\"#c51b7d\"],[0.2,\"#de77ae\"],[0.3,\"#f1b6da\"],[0.4,\"#fde0ef\"],[0.5,\"#f7f7f7\"],[0.6,\"#e6f5d0\"],[0.7,\"#b8e186\"],[0.8,\"#7fbc41\"],[0.9,\"#4d9221\"],[1,\"#276419\"]]},\"xaxis\":{\"gridcolor\":\"white\",\"linecolor\":\"white\",\"ticks\":\"\",\"title\":{\"standoff\":15},\"zerolinecolor\":\"white\",\"automargin\":true,\"zerolinewidth\":2},\"yaxis\":{\"gridcolor\":\"white\",\"linecolor\":\"white\",\"ticks\":\"\",\"title\":{\"standoff\":15},\"zerolinecolor\":\"white\",\"automargin\":true,\"zerolinewidth\":2},\"scene\":{\"xaxis\":{\"backgroundcolor\":\"#E5ECF6\",\"gridcolor\":\"white\",\"linecolor\":\"white\",\"showbackground\":true,\"ticks\":\"\",\"zerolinecolor\":\"white\",\"gridwidth\":2},\"yaxis\":{\"backgroundcolor\":\"#E5ECF6\",\"gridcolor\":\"white\",\"linecolor\":\"white\",\"showbackground\":true,\"ticks\":\"\",\"zerolinecolor\":\"white\",\"gridwidth\":2},\"zaxis\":{\"backgroundcolor\":\"#E5ECF6\",\"gridcolor\":\"white\",\"linecolor\":\"white\",\"showbackground\":true,\"ticks\":\"\",\"zerolinecolor\":\"white\",\"gridwidth\":2}},\"shapedefaults\":{\"line\":{\"color\":\"#2a3f5f\"}},\"annotationdefaults\":{\"arrowcolor\":\"#2a3f5f\",\"arrowhead\":0,\"arrowwidth\":1},\"geo\":{\"bgcolor\":\"white\",\"landcolor\":\"#E5ECF6\",\"subunitcolor\":\"white\",\"showland\":true,\"showlakes\":true,\"lakecolor\":\"white\"},\"title\":{\"x\":0.05},\"mapbox\":{\"style\":\"light\"}}},\"font\":{\"color\":\"white\"},\"barmode\":\"stack\",\"title\":{\"text\":\"Stacked Bar Chart of Emergency Visits vs Readmission\"},\"xaxis\":{\"title\":{\"text\":\"Number of Emergency Visits\"}},\"yaxis\":{\"title\":{\"text\":\"Number of Patients\"}},\"plot_bgcolor\":\"black\",\"paper_bgcolor\":\"black\"},                        {\"responsive\": true}                    ).then(function(){\n",
       "                            \n",
       "var gd = document.getElementById('e8be4b80-f2c2-4b46-a1a2-2d5a38a02044');\n",
       "var x = new MutationObserver(function (mutations, observer) {{\n",
       "        var display = window.getComputedStyle(gd).display;\n",
       "        if (!display || display === 'none') {{\n",
       "            console.log([gd, 'removed!']);\n",
       "            Plotly.purge(gd);\n",
       "            observer.disconnect();\n",
       "        }}\n",
       "}});\n",
       "\n",
       "// Listen for the removal of the full notebook cells\n",
       "var notebookContainer = gd.closest('#notebook-container');\n",
       "if (notebookContainer) {{\n",
       "    x.observe(notebookContainer, {childList: true});\n",
       "}}\n",
       "\n",
       "// Listen for the clearing of the current output cell\n",
       "var outputEl = gd.closest('.output');\n",
       "if (outputEl) {{\n",
       "    x.observe(outputEl, {childList: true});\n",
       "}}\n",
       "\n",
       "                        })                };                });            </script>        </div>"
      ]
     },
     "metadata": {},
     "output_type": "display_data"
    }
   ],
   "source": [
    "import plotly.graph_objects as go\n",
    "\n",
    "fig = go.Figure()\n",
    "\n",
    "for col in emergency_rate.columns:\n",
    "    fig.add_trace(go.Bar(\n",
    "        name=col,\n",
    "        x=emergency_rate.index,\n",
    "        y=emergency_rate[col],\n",
    "    ))\n",
    "\n",
    "fig.update_layout(\n",
    "    barmode='stack',\n",
    "    title='Stacked Bar Chart of Emergency Visits vs Readmission',\n",
    "    xaxis_title='Number of Emergency Visits',\n",
    "    yaxis_title='Number of Patients',\n",
    "    plot_bgcolor='black',  \n",
    "    paper_bgcolor='black', \n",
    "    font=dict(color='white')  \n",
    ")\n",
    "\n",
    "fig.show()"
   ]
  },
  {
   "cell_type": "markdown",
   "id": "24d71fb2",
   "metadata": {
    "papermill": {
     "duration": 0.019506,
     "end_time": "2024-06-15T15:09:59.578479",
     "exception": false,
     "start_time": "2024-06-15T15:09:59.558973",
     "status": "completed"
    },
    "tags": []
   },
   "source": [
    "**4. What proportion of patients with diabetes were readmitted within 30 days?**"
   ]
  },
  {
   "cell_type": "code",
   "execution_count": 16,
   "id": "ea857f49",
   "metadata": {
    "execution": {
     "iopub.execute_input": "2024-06-15T15:09:59.612369Z",
     "iopub.status.busy": "2024-06-15T15:09:59.611200Z",
     "iopub.status.idle": "2024-06-15T15:10:01.708634Z",
     "shell.execute_reply": "2024-06-15T15:10:01.706947Z"
    },
    "papermill": {
     "duration": 2.117811,
     "end_time": "2024-06-15T15:10:01.711758",
     "exception": false,
     "start_time": "2024-06-15T15:09:59.593947",
     "status": "completed"
    },
    "tags": []
   },
   "outputs": [
    {
     "name": "stdout",
     "output_type": "stream",
     "text": [
      "diabetesMed\n",
      "No      6205\n",
      "Yes    24559\n",
      "Name: readmitted, dtype: int64\n"
     ]
    },
    {
     "data": {
      "text/html": [
       "<div>                            <div id=\"764d6efe-c841-4901-b865-33fdc4c04ba8\" class=\"plotly-graph-div\" style=\"height:525px; width:100%;\"></div>            <script type=\"text/javascript\">                require([\"plotly\"], function(Plotly) {                    window.PLOTLYENV=window.PLOTLYENV || {};                                    if (document.getElementById(\"764d6efe-c841-4901-b865-33fdc4c04ba8\")) {                    Plotly.newPlot(                        \"764d6efe-c841-4901-b865-33fdc4c04ba8\",                        [{\"domain\":{\"x\":[0.0,1.0],\"y\":[0.0,1.0]},\"hovertemplate\":\"diabetesMed=%{label}\\u003cbr\\u003evalue=%{value}\\u003cextra\\u003e\\u003c\\u002fextra\\u003e\",\"labels\":[\"No\",\"Yes\"],\"legendgroup\":\"\",\"name\":\"\",\"showlegend\":true,\"values\":[6205,24559],\"type\":\"pie\",\"marker\":{\"colors\":[\"lightpink\",\"cyan\"]}}],                        {\"template\":{\"data\":{\"histogram2dcontour\":[{\"type\":\"histogram2dcontour\",\"colorbar\":{\"outlinewidth\":0,\"ticks\":\"\"},\"colorscale\":[[0.0,\"#0d0887\"],[0.1111111111111111,\"#46039f\"],[0.2222222222222222,\"#7201a8\"],[0.3333333333333333,\"#9c179e\"],[0.4444444444444444,\"#bd3786\"],[0.5555555555555556,\"#d8576b\"],[0.6666666666666666,\"#ed7953\"],[0.7777777777777778,\"#fb9f3a\"],[0.8888888888888888,\"#fdca26\"],[1.0,\"#f0f921\"]]}],\"choropleth\":[{\"type\":\"choropleth\",\"colorbar\":{\"outlinewidth\":0,\"ticks\":\"\"}}],\"histogram2d\":[{\"type\":\"histogram2d\",\"colorbar\":{\"outlinewidth\":0,\"ticks\":\"\"},\"colorscale\":[[0.0,\"#0d0887\"],[0.1111111111111111,\"#46039f\"],[0.2222222222222222,\"#7201a8\"],[0.3333333333333333,\"#9c179e\"],[0.4444444444444444,\"#bd3786\"],[0.5555555555555556,\"#d8576b\"],[0.6666666666666666,\"#ed7953\"],[0.7777777777777778,\"#fb9f3a\"],[0.8888888888888888,\"#fdca26\"],[1.0,\"#f0f921\"]]}],\"heatmap\":[{\"type\":\"heatmap\",\"colorbar\":{\"outlinewidth\":0,\"ticks\":\"\"},\"colorscale\":[[0.0,\"#0d0887\"],[0.1111111111111111,\"#46039f\"],[0.2222222222222222,\"#7201a8\"],[0.3333333333333333,\"#9c179e\"],[0.4444444444444444,\"#bd3786\"],[0.5555555555555556,\"#d8576b\"],[0.6666666666666666,\"#ed7953\"],[0.7777777777777778,\"#fb9f3a\"],[0.8888888888888888,\"#fdca26\"],[1.0,\"#f0f921\"]]}],\"heatmapgl\":[{\"type\":\"heatmapgl\",\"colorbar\":{\"outlinewidth\":0,\"ticks\":\"\"},\"colorscale\":[[0.0,\"#0d0887\"],[0.1111111111111111,\"#46039f\"],[0.2222222222222222,\"#7201a8\"],[0.3333333333333333,\"#9c179e\"],[0.4444444444444444,\"#bd3786\"],[0.5555555555555556,\"#d8576b\"],[0.6666666666666666,\"#ed7953\"],[0.7777777777777778,\"#fb9f3a\"],[0.8888888888888888,\"#fdca26\"],[1.0,\"#f0f921\"]]}],\"contourcarpet\":[{\"type\":\"contourcarpet\",\"colorbar\":{\"outlinewidth\":0,\"ticks\":\"\"}}],\"contour\":[{\"type\":\"contour\",\"colorbar\":{\"outlinewidth\":0,\"ticks\":\"\"},\"colorscale\":[[0.0,\"#0d0887\"],[0.1111111111111111,\"#46039f\"],[0.2222222222222222,\"#7201a8\"],[0.3333333333333333,\"#9c179e\"],[0.4444444444444444,\"#bd3786\"],[0.5555555555555556,\"#d8576b\"],[0.6666666666666666,\"#ed7953\"],[0.7777777777777778,\"#fb9f3a\"],[0.8888888888888888,\"#fdca26\"],[1.0,\"#f0f921\"]]}],\"surface\":[{\"type\":\"surface\",\"colorbar\":{\"outlinewidth\":0,\"ticks\":\"\"},\"colorscale\":[[0.0,\"#0d0887\"],[0.1111111111111111,\"#46039f\"],[0.2222222222222222,\"#7201a8\"],[0.3333333333333333,\"#9c179e\"],[0.4444444444444444,\"#bd3786\"],[0.5555555555555556,\"#d8576b\"],[0.6666666666666666,\"#ed7953\"],[0.7777777777777778,\"#fb9f3a\"],[0.8888888888888888,\"#fdca26\"],[1.0,\"#f0f921\"]]}],\"mesh3d\":[{\"type\":\"mesh3d\",\"colorbar\":{\"outlinewidth\":0,\"ticks\":\"\"}}],\"scatter\":[{\"fillpattern\":{\"fillmode\":\"overlay\",\"size\":10,\"solidity\":0.2},\"type\":\"scatter\"}],\"parcoords\":[{\"type\":\"parcoords\",\"line\":{\"colorbar\":{\"outlinewidth\":0,\"ticks\":\"\"}}}],\"scatterpolargl\":[{\"type\":\"scatterpolargl\",\"marker\":{\"colorbar\":{\"outlinewidth\":0,\"ticks\":\"\"}}}],\"bar\":[{\"error_x\":{\"color\":\"#2a3f5f\"},\"error_y\":{\"color\":\"#2a3f5f\"},\"marker\":{\"line\":{\"color\":\"#E5ECF6\",\"width\":0.5},\"pattern\":{\"fillmode\":\"overlay\",\"size\":10,\"solidity\":0.2}},\"type\":\"bar\"}],\"scattergeo\":[{\"type\":\"scattergeo\",\"marker\":{\"colorbar\":{\"outlinewidth\":0,\"ticks\":\"\"}}}],\"scatterpolar\":[{\"type\":\"scatterpolar\",\"marker\":{\"colorbar\":{\"outlinewidth\":0,\"ticks\":\"\"}}}],\"histogram\":[{\"marker\":{\"pattern\":{\"fillmode\":\"overlay\",\"size\":10,\"solidity\":0.2}},\"type\":\"histogram\"}],\"scattergl\":[{\"type\":\"scattergl\",\"marker\":{\"colorbar\":{\"outlinewidth\":0,\"ticks\":\"\"}}}],\"scatter3d\":[{\"type\":\"scatter3d\",\"line\":{\"colorbar\":{\"outlinewidth\":0,\"ticks\":\"\"}},\"marker\":{\"colorbar\":{\"outlinewidth\":0,\"ticks\":\"\"}}}],\"scattermapbox\":[{\"type\":\"scattermapbox\",\"marker\":{\"colorbar\":{\"outlinewidth\":0,\"ticks\":\"\"}}}],\"scatterternary\":[{\"type\":\"scatterternary\",\"marker\":{\"colorbar\":{\"outlinewidth\":0,\"ticks\":\"\"}}}],\"scattercarpet\":[{\"type\":\"scattercarpet\",\"marker\":{\"colorbar\":{\"outlinewidth\":0,\"ticks\":\"\"}}}],\"carpet\":[{\"aaxis\":{\"endlinecolor\":\"#2a3f5f\",\"gridcolor\":\"white\",\"linecolor\":\"white\",\"minorgridcolor\":\"white\",\"startlinecolor\":\"#2a3f5f\"},\"baxis\":{\"endlinecolor\":\"#2a3f5f\",\"gridcolor\":\"white\",\"linecolor\":\"white\",\"minorgridcolor\":\"white\",\"startlinecolor\":\"#2a3f5f\"},\"type\":\"carpet\"}],\"table\":[{\"cells\":{\"fill\":{\"color\":\"#EBF0F8\"},\"line\":{\"color\":\"white\"}},\"header\":{\"fill\":{\"color\":\"#C8D4E3\"},\"line\":{\"color\":\"white\"}},\"type\":\"table\"}],\"barpolar\":[{\"marker\":{\"line\":{\"color\":\"#E5ECF6\",\"width\":0.5},\"pattern\":{\"fillmode\":\"overlay\",\"size\":10,\"solidity\":0.2}},\"type\":\"barpolar\"}],\"pie\":[{\"automargin\":true,\"type\":\"pie\"}]},\"layout\":{\"autotypenumbers\":\"strict\",\"colorway\":[\"#636efa\",\"#EF553B\",\"#00cc96\",\"#ab63fa\",\"#FFA15A\",\"#19d3f3\",\"#FF6692\",\"#B6E880\",\"#FF97FF\",\"#FECB52\"],\"font\":{\"color\":\"#2a3f5f\"},\"hovermode\":\"closest\",\"hoverlabel\":{\"align\":\"left\"},\"paper_bgcolor\":\"white\",\"plot_bgcolor\":\"#E5ECF6\",\"polar\":{\"bgcolor\":\"#E5ECF6\",\"angularaxis\":{\"gridcolor\":\"white\",\"linecolor\":\"white\",\"ticks\":\"\"},\"radialaxis\":{\"gridcolor\":\"white\",\"linecolor\":\"white\",\"ticks\":\"\"}},\"ternary\":{\"bgcolor\":\"#E5ECF6\",\"aaxis\":{\"gridcolor\":\"white\",\"linecolor\":\"white\",\"ticks\":\"\"},\"baxis\":{\"gridcolor\":\"white\",\"linecolor\":\"white\",\"ticks\":\"\"},\"caxis\":{\"gridcolor\":\"white\",\"linecolor\":\"white\",\"ticks\":\"\"}},\"coloraxis\":{\"colorbar\":{\"outlinewidth\":0,\"ticks\":\"\"}},\"colorscale\":{\"sequential\":[[0.0,\"#0d0887\"],[0.1111111111111111,\"#46039f\"],[0.2222222222222222,\"#7201a8\"],[0.3333333333333333,\"#9c179e\"],[0.4444444444444444,\"#bd3786\"],[0.5555555555555556,\"#d8576b\"],[0.6666666666666666,\"#ed7953\"],[0.7777777777777778,\"#fb9f3a\"],[0.8888888888888888,\"#fdca26\"],[1.0,\"#f0f921\"]],\"sequentialminus\":[[0.0,\"#0d0887\"],[0.1111111111111111,\"#46039f\"],[0.2222222222222222,\"#7201a8\"],[0.3333333333333333,\"#9c179e\"],[0.4444444444444444,\"#bd3786\"],[0.5555555555555556,\"#d8576b\"],[0.6666666666666666,\"#ed7953\"],[0.7777777777777778,\"#fb9f3a\"],[0.8888888888888888,\"#fdca26\"],[1.0,\"#f0f921\"]],\"diverging\":[[0,\"#8e0152\"],[0.1,\"#c51b7d\"],[0.2,\"#de77ae\"],[0.3,\"#f1b6da\"],[0.4,\"#fde0ef\"],[0.5,\"#f7f7f7\"],[0.6,\"#e6f5d0\"],[0.7,\"#b8e186\"],[0.8,\"#7fbc41\"],[0.9,\"#4d9221\"],[1,\"#276419\"]]},\"xaxis\":{\"gridcolor\":\"white\",\"linecolor\":\"white\",\"ticks\":\"\",\"title\":{\"standoff\":15},\"zerolinecolor\":\"white\",\"automargin\":true,\"zerolinewidth\":2},\"yaxis\":{\"gridcolor\":\"white\",\"linecolor\":\"white\",\"ticks\":\"\",\"title\":{\"standoff\":15},\"zerolinecolor\":\"white\",\"automargin\":true,\"zerolinewidth\":2},\"scene\":{\"xaxis\":{\"backgroundcolor\":\"#E5ECF6\",\"gridcolor\":\"white\",\"linecolor\":\"white\",\"showbackground\":true,\"ticks\":\"\",\"zerolinecolor\":\"white\",\"gridwidth\":2},\"yaxis\":{\"backgroundcolor\":\"#E5ECF6\",\"gridcolor\":\"white\",\"linecolor\":\"white\",\"showbackground\":true,\"ticks\":\"\",\"zerolinecolor\":\"white\",\"gridwidth\":2},\"zaxis\":{\"backgroundcolor\":\"#E5ECF6\",\"gridcolor\":\"white\",\"linecolor\":\"white\",\"showbackground\":true,\"ticks\":\"\",\"zerolinecolor\":\"white\",\"gridwidth\":2}},\"shapedefaults\":{\"line\":{\"color\":\"#2a3f5f\"}},\"annotationdefaults\":{\"arrowcolor\":\"#2a3f5f\",\"arrowhead\":0,\"arrowwidth\":1},\"geo\":{\"bgcolor\":\"white\",\"landcolor\":\"#E5ECF6\",\"subunitcolor\":\"white\",\"showland\":true,\"showlakes\":true,\"lakecolor\":\"white\"},\"title\":{\"x\":0.05},\"mapbox\":{\"style\":\"light\"}}},\"legend\":{\"tracegroupgap\":0},\"title\":{\"text\":\"Proportion Of Readmitted Diabetes Patients\"},\"font\":{\"color\":\"white\"},\"plot_bgcolor\":\"black\",\"paper_bgcolor\":\"black\"},                        {\"responsive\": true}                    ).then(function(){\n",
       "                            \n",
       "var gd = document.getElementById('764d6efe-c841-4901-b865-33fdc4c04ba8');\n",
       "var x = new MutationObserver(function (mutations, observer) {{\n",
       "        var display = window.getComputedStyle(gd).display;\n",
       "        if (!display || display === 'none') {{\n",
       "            console.log([gd, 'removed!']);\n",
       "            Plotly.purge(gd);\n",
       "            observer.disconnect();\n",
       "        }}\n",
       "}});\n",
       "\n",
       "// Listen for the removal of the full notebook cells\n",
       "var notebookContainer = gd.closest('#notebook-container');\n",
       "if (notebookContainer) {{\n",
       "    x.observe(notebookContainer, {childList: true});\n",
       "}}\n",
       "\n",
       "// Listen for the clearing of the current output cell\n",
       "var outputEl = gd.closest('.output');\n",
       "if (outputEl) {{\n",
       "    x.observe(outputEl, {childList: true});\n",
       "}}\n",
       "\n",
       "                        })                };                });            </script>        </div>"
      ]
     },
     "metadata": {},
     "output_type": "display_data"
    }
   ],
   "source": [
    "diab_patients = hospital.groupby('diabetesMed')['readmitted'].sum()\n",
    "print(diab_patients)\n",
    "\n",
    "colors = ['lightpink', 'cyan']\n",
    "\n",
    "fig = px.pie(diab_patients, \n",
    "             values=diab_patients.values, \n",
    "             names=diab_patients.index, \n",
    "             title='Proportion Of Readmitted Diabetes Patients')\n",
    "\n",
    "fig.update_layout(\n",
    "    plot_bgcolor='black', paper_bgcolor='black', font=dict(color='white'))\n",
    "             \n",
    "fig.update_traces(marker=dict(colors=colors))\n",
    "fig.show()"
   ]
  },
  {
   "cell_type": "markdown",
   "id": "f77b3b87",
   "metadata": {
    "papermill": {
     "duration": 0.013744,
     "end_time": "2024-06-15T15:10:01.739893",
     "exception": false,
     "start_time": "2024-06-15T15:10:01.726149",
     "status": "completed"
    },
    "tags": []
   },
   "source": [
    "**5. Is there a significant difference in readmission rates between patients with changes in diabetic medication and those without?**"
   ]
  },
  {
   "cell_type": "code",
   "execution_count": 17,
   "id": "470093bf",
   "metadata": {
    "execution": {
     "iopub.execute_input": "2024-06-15T15:10:01.770157Z",
     "iopub.status.busy": "2024-06-15T15:10:01.769761Z",
     "iopub.status.idle": "2024-06-15T15:10:01.838103Z",
     "shell.execute_reply": "2024-06-15T15:10:01.836736Z"
    },
    "papermill": {
     "duration": 0.087377,
     "end_time": "2024-06-15T15:10:01.841490",
     "exception": false,
     "start_time": "2024-06-15T15:10:01.754113",
     "status": "completed"
    },
    "tags": []
   },
   "outputs": [
    {
     "name": "stdout",
     "output_type": "stream",
     "text": [
      "change\n",
      "Ch    30693\n",
      "No    35894\n",
      "Name: readmitted, dtype: int64\n"
     ]
    },
    {
     "data": {
      "text/html": [
       "<div>                            <div id=\"278b4a47-6463-4ee3-b421-8308d53db204\" class=\"plotly-graph-div\" style=\"height:525px; width:100%;\"></div>            <script type=\"text/javascript\">                require([\"plotly\"], function(Plotly) {                    window.PLOTLYENV=window.PLOTLYENV || {};                                    if (document.getElementById(\"278b4a47-6463-4ee3-b421-8308d53db204\")) {                    Plotly.newPlot(                        \"278b4a47-6463-4ee3-b421-8308d53db204\",                        [{\"domain\":{\"x\":[0.0,1.0],\"y\":[0.0,1.0]},\"hole\":0.5,\"hovertemplate\":\"change=%{label}\\u003cbr\\u003evalue=%{value}\\u003cextra\\u003e\\u003c\\u002fextra\\u003e\",\"labels\":[\"Ch\",\"No\"],\"legendgroup\":\"\",\"name\":\"\",\"showlegend\":true,\"values\":[30693,35894],\"type\":\"pie\",\"marker\":{\"colors\":[\"gold\",\"powderblue\"]}}],                        {\"template\":{\"data\":{\"histogram2dcontour\":[{\"type\":\"histogram2dcontour\",\"colorbar\":{\"outlinewidth\":0,\"ticks\":\"\"},\"colorscale\":[[0.0,\"#0d0887\"],[0.1111111111111111,\"#46039f\"],[0.2222222222222222,\"#7201a8\"],[0.3333333333333333,\"#9c179e\"],[0.4444444444444444,\"#bd3786\"],[0.5555555555555556,\"#d8576b\"],[0.6666666666666666,\"#ed7953\"],[0.7777777777777778,\"#fb9f3a\"],[0.8888888888888888,\"#fdca26\"],[1.0,\"#f0f921\"]]}],\"choropleth\":[{\"type\":\"choropleth\",\"colorbar\":{\"outlinewidth\":0,\"ticks\":\"\"}}],\"histogram2d\":[{\"type\":\"histogram2d\",\"colorbar\":{\"outlinewidth\":0,\"ticks\":\"\"},\"colorscale\":[[0.0,\"#0d0887\"],[0.1111111111111111,\"#46039f\"],[0.2222222222222222,\"#7201a8\"],[0.3333333333333333,\"#9c179e\"],[0.4444444444444444,\"#bd3786\"],[0.5555555555555556,\"#d8576b\"],[0.6666666666666666,\"#ed7953\"],[0.7777777777777778,\"#fb9f3a\"],[0.8888888888888888,\"#fdca26\"],[1.0,\"#f0f921\"]]}],\"heatmap\":[{\"type\":\"heatmap\",\"colorbar\":{\"outlinewidth\":0,\"ticks\":\"\"},\"colorscale\":[[0.0,\"#0d0887\"],[0.1111111111111111,\"#46039f\"],[0.2222222222222222,\"#7201a8\"],[0.3333333333333333,\"#9c179e\"],[0.4444444444444444,\"#bd3786\"],[0.5555555555555556,\"#d8576b\"],[0.6666666666666666,\"#ed7953\"],[0.7777777777777778,\"#fb9f3a\"],[0.8888888888888888,\"#fdca26\"],[1.0,\"#f0f921\"]]}],\"heatmapgl\":[{\"type\":\"heatmapgl\",\"colorbar\":{\"outlinewidth\":0,\"ticks\":\"\"},\"colorscale\":[[0.0,\"#0d0887\"],[0.1111111111111111,\"#46039f\"],[0.2222222222222222,\"#7201a8\"],[0.3333333333333333,\"#9c179e\"],[0.4444444444444444,\"#bd3786\"],[0.5555555555555556,\"#d8576b\"],[0.6666666666666666,\"#ed7953\"],[0.7777777777777778,\"#fb9f3a\"],[0.8888888888888888,\"#fdca26\"],[1.0,\"#f0f921\"]]}],\"contourcarpet\":[{\"type\":\"contourcarpet\",\"colorbar\":{\"outlinewidth\":0,\"ticks\":\"\"}}],\"contour\":[{\"type\":\"contour\",\"colorbar\":{\"outlinewidth\":0,\"ticks\":\"\"},\"colorscale\":[[0.0,\"#0d0887\"],[0.1111111111111111,\"#46039f\"],[0.2222222222222222,\"#7201a8\"],[0.3333333333333333,\"#9c179e\"],[0.4444444444444444,\"#bd3786\"],[0.5555555555555556,\"#d8576b\"],[0.6666666666666666,\"#ed7953\"],[0.7777777777777778,\"#fb9f3a\"],[0.8888888888888888,\"#fdca26\"],[1.0,\"#f0f921\"]]}],\"surface\":[{\"type\":\"surface\",\"colorbar\":{\"outlinewidth\":0,\"ticks\":\"\"},\"colorscale\":[[0.0,\"#0d0887\"],[0.1111111111111111,\"#46039f\"],[0.2222222222222222,\"#7201a8\"],[0.3333333333333333,\"#9c179e\"],[0.4444444444444444,\"#bd3786\"],[0.5555555555555556,\"#d8576b\"],[0.6666666666666666,\"#ed7953\"],[0.7777777777777778,\"#fb9f3a\"],[0.8888888888888888,\"#fdca26\"],[1.0,\"#f0f921\"]]}],\"mesh3d\":[{\"type\":\"mesh3d\",\"colorbar\":{\"outlinewidth\":0,\"ticks\":\"\"}}],\"scatter\":[{\"fillpattern\":{\"fillmode\":\"overlay\",\"size\":10,\"solidity\":0.2},\"type\":\"scatter\"}],\"parcoords\":[{\"type\":\"parcoords\",\"line\":{\"colorbar\":{\"outlinewidth\":0,\"ticks\":\"\"}}}],\"scatterpolargl\":[{\"type\":\"scatterpolargl\",\"marker\":{\"colorbar\":{\"outlinewidth\":0,\"ticks\":\"\"}}}],\"bar\":[{\"error_x\":{\"color\":\"#2a3f5f\"},\"error_y\":{\"color\":\"#2a3f5f\"},\"marker\":{\"line\":{\"color\":\"#E5ECF6\",\"width\":0.5},\"pattern\":{\"fillmode\":\"overlay\",\"size\":10,\"solidity\":0.2}},\"type\":\"bar\"}],\"scattergeo\":[{\"type\":\"scattergeo\",\"marker\":{\"colorbar\":{\"outlinewidth\":0,\"ticks\":\"\"}}}],\"scatterpolar\":[{\"type\":\"scatterpolar\",\"marker\":{\"colorbar\":{\"outlinewidth\":0,\"ticks\":\"\"}}}],\"histogram\":[{\"marker\":{\"pattern\":{\"fillmode\":\"overlay\",\"size\":10,\"solidity\":0.2}},\"type\":\"histogram\"}],\"scattergl\":[{\"type\":\"scattergl\",\"marker\":{\"colorbar\":{\"outlinewidth\":0,\"ticks\":\"\"}}}],\"scatter3d\":[{\"type\":\"scatter3d\",\"line\":{\"colorbar\":{\"outlinewidth\":0,\"ticks\":\"\"}},\"marker\":{\"colorbar\":{\"outlinewidth\":0,\"ticks\":\"\"}}}],\"scattermapbox\":[{\"type\":\"scattermapbox\",\"marker\":{\"colorbar\":{\"outlinewidth\":0,\"ticks\":\"\"}}}],\"scatterternary\":[{\"type\":\"scatterternary\",\"marker\":{\"colorbar\":{\"outlinewidth\":0,\"ticks\":\"\"}}}],\"scattercarpet\":[{\"type\":\"scattercarpet\",\"marker\":{\"colorbar\":{\"outlinewidth\":0,\"ticks\":\"\"}}}],\"carpet\":[{\"aaxis\":{\"endlinecolor\":\"#2a3f5f\",\"gridcolor\":\"white\",\"linecolor\":\"white\",\"minorgridcolor\":\"white\",\"startlinecolor\":\"#2a3f5f\"},\"baxis\":{\"endlinecolor\":\"#2a3f5f\",\"gridcolor\":\"white\",\"linecolor\":\"white\",\"minorgridcolor\":\"white\",\"startlinecolor\":\"#2a3f5f\"},\"type\":\"carpet\"}],\"table\":[{\"cells\":{\"fill\":{\"color\":\"#EBF0F8\"},\"line\":{\"color\":\"white\"}},\"header\":{\"fill\":{\"color\":\"#C8D4E3\"},\"line\":{\"color\":\"white\"}},\"type\":\"table\"}],\"barpolar\":[{\"marker\":{\"line\":{\"color\":\"#E5ECF6\",\"width\":0.5},\"pattern\":{\"fillmode\":\"overlay\",\"size\":10,\"solidity\":0.2}},\"type\":\"barpolar\"}],\"pie\":[{\"automargin\":true,\"type\":\"pie\"}]},\"layout\":{\"autotypenumbers\":\"strict\",\"colorway\":[\"#636efa\",\"#EF553B\",\"#00cc96\",\"#ab63fa\",\"#FFA15A\",\"#19d3f3\",\"#FF6692\",\"#B6E880\",\"#FF97FF\",\"#FECB52\"],\"font\":{\"color\":\"#2a3f5f\"},\"hovermode\":\"closest\",\"hoverlabel\":{\"align\":\"left\"},\"paper_bgcolor\":\"white\",\"plot_bgcolor\":\"#E5ECF6\",\"polar\":{\"bgcolor\":\"#E5ECF6\",\"angularaxis\":{\"gridcolor\":\"white\",\"linecolor\":\"white\",\"ticks\":\"\"},\"radialaxis\":{\"gridcolor\":\"white\",\"linecolor\":\"white\",\"ticks\":\"\"}},\"ternary\":{\"bgcolor\":\"#E5ECF6\",\"aaxis\":{\"gridcolor\":\"white\",\"linecolor\":\"white\",\"ticks\":\"\"},\"baxis\":{\"gridcolor\":\"white\",\"linecolor\":\"white\",\"ticks\":\"\"},\"caxis\":{\"gridcolor\":\"white\",\"linecolor\":\"white\",\"ticks\":\"\"}},\"coloraxis\":{\"colorbar\":{\"outlinewidth\":0,\"ticks\":\"\"}},\"colorscale\":{\"sequential\":[[0.0,\"#0d0887\"],[0.1111111111111111,\"#46039f\"],[0.2222222222222222,\"#7201a8\"],[0.3333333333333333,\"#9c179e\"],[0.4444444444444444,\"#bd3786\"],[0.5555555555555556,\"#d8576b\"],[0.6666666666666666,\"#ed7953\"],[0.7777777777777778,\"#fb9f3a\"],[0.8888888888888888,\"#fdca26\"],[1.0,\"#f0f921\"]],\"sequentialminus\":[[0.0,\"#0d0887\"],[0.1111111111111111,\"#46039f\"],[0.2222222222222222,\"#7201a8\"],[0.3333333333333333,\"#9c179e\"],[0.4444444444444444,\"#bd3786\"],[0.5555555555555556,\"#d8576b\"],[0.6666666666666666,\"#ed7953\"],[0.7777777777777778,\"#fb9f3a\"],[0.8888888888888888,\"#fdca26\"],[1.0,\"#f0f921\"]],\"diverging\":[[0,\"#8e0152\"],[0.1,\"#c51b7d\"],[0.2,\"#de77ae\"],[0.3,\"#f1b6da\"],[0.4,\"#fde0ef\"],[0.5,\"#f7f7f7\"],[0.6,\"#e6f5d0\"],[0.7,\"#b8e186\"],[0.8,\"#7fbc41\"],[0.9,\"#4d9221\"],[1,\"#276419\"]]},\"xaxis\":{\"gridcolor\":\"white\",\"linecolor\":\"white\",\"ticks\":\"\",\"title\":{\"standoff\":15},\"zerolinecolor\":\"white\",\"automargin\":true,\"zerolinewidth\":2},\"yaxis\":{\"gridcolor\":\"white\",\"linecolor\":\"white\",\"ticks\":\"\",\"title\":{\"standoff\":15},\"zerolinecolor\":\"white\",\"automargin\":true,\"zerolinewidth\":2},\"scene\":{\"xaxis\":{\"backgroundcolor\":\"#E5ECF6\",\"gridcolor\":\"white\",\"linecolor\":\"white\",\"showbackground\":true,\"ticks\":\"\",\"zerolinecolor\":\"white\",\"gridwidth\":2},\"yaxis\":{\"backgroundcolor\":\"#E5ECF6\",\"gridcolor\":\"white\",\"linecolor\":\"white\",\"showbackground\":true,\"ticks\":\"\",\"zerolinecolor\":\"white\",\"gridwidth\":2},\"zaxis\":{\"backgroundcolor\":\"#E5ECF6\",\"gridcolor\":\"white\",\"linecolor\":\"white\",\"showbackground\":true,\"ticks\":\"\",\"zerolinecolor\":\"white\",\"gridwidth\":2}},\"shapedefaults\":{\"line\":{\"color\":\"#2a3f5f\"}},\"annotationdefaults\":{\"arrowcolor\":\"#2a3f5f\",\"arrowhead\":0,\"arrowwidth\":1},\"geo\":{\"bgcolor\":\"white\",\"landcolor\":\"#E5ECF6\",\"subunitcolor\":\"white\",\"showland\":true,\"showlakes\":true,\"lakecolor\":\"white\"},\"title\":{\"x\":0.05},\"mapbox\":{\"style\":\"light\"}}},\"legend\":{\"tracegroupgap\":0},\"title\":{\"text\":\"Readmission Rates: Diabetic Med Changes vs. No Change\"},\"font\":{\"color\":\"white\"},\"plot_bgcolor\":\"black\",\"paper_bgcolor\":\"black\"},                        {\"responsive\": true}                    ).then(function(){\n",
       "                            \n",
       "var gd = document.getElementById('278b4a47-6463-4ee3-b421-8308d53db204');\n",
       "var x = new MutationObserver(function (mutations, observer) {{\n",
       "        var display = window.getComputedStyle(gd).display;\n",
       "        if (!display || display === 'none') {{\n",
       "            console.log([gd, 'removed!']);\n",
       "            Plotly.purge(gd);\n",
       "            observer.disconnect();\n",
       "        }}\n",
       "}});\n",
       "\n",
       "// Listen for the removal of the full notebook cells\n",
       "var notebookContainer = gd.closest('#notebook-container');\n",
       "if (notebookContainer) {{\n",
       "    x.observe(notebookContainer, {childList: true});\n",
       "}}\n",
       "\n",
       "// Listen for the clearing of the current output cell\n",
       "var outputEl = gd.closest('.output');\n",
       "if (outputEl) {{\n",
       "    x.observe(outputEl, {childList: true});\n",
       "}}\n",
       "\n",
       "                        })                };                });            </script>        </div>"
      ]
     },
     "metadata": {},
     "output_type": "display_data"
    }
   ],
   "source": [
    "changes_in_med = hospital.groupby('change')['readmitted'].count()\n",
    "print(changes_in_med)\n",
    "\n",
    "colors=['gold', 'powderblue']\n",
    "\n",
    "fig = px.pie(changes_in_med,\n",
    "            values=changes_in_med.values,\n",
    "            names=changes_in_med.index,\n",
    "            title='Readmission Rates: Diabetic Med Changes vs. No Change',\n",
    "            hole=0.5)\n",
    "\n",
    "fig.update_layout(plot_bgcolor='black', paper_bgcolor='black', font=dict(color='white'))\n",
    "\n",
    "fig.update_traces(marker=dict(colors=colors))\n",
    "fig.show()"
   ]
  },
  {
   "cell_type": "markdown",
   "id": "1ff34eb6",
   "metadata": {
    "papermill": {
     "duration": 0.078919,
     "end_time": "2024-06-15T15:10:01.934500",
     "exception": false,
     "start_time": "2024-06-15T15:10:01.855581",
     "status": "completed"
    },
    "tags": []
   },
   "source": [
    "**6. Investigate the relationship between the number of lab procedures performed during the stay and readmission rates.**"
   ]
  },
  {
   "cell_type": "code",
   "execution_count": 18,
   "id": "ac78d188",
   "metadata": {
    "execution": {
     "iopub.execute_input": "2024-06-15T15:10:01.966287Z",
     "iopub.status.busy": "2024-06-15T15:10:01.965924Z",
     "iopub.status.idle": "2024-06-15T15:10:02.502292Z",
     "shell.execute_reply": "2024-06-15T15:10:02.500871Z"
    },
    "papermill": {
     "duration": 0.555524,
     "end_time": "2024-06-15T15:10:02.505055",
     "exception": false,
     "start_time": "2024-06-15T15:10:01.949531",
     "status": "completed"
    },
    "tags": []
   },
   "outputs": [
    {
     "name": "stdout",
     "output_type": "stream",
     "text": [
      "num_lab_pro_grp\n",
      "1-10        3862\n",
      "11-20       4044\n",
      "21-30       6784\n",
      "31-40      12380\n",
      "41-50      14435\n",
      "51-60      11409\n",
      "61-70       7530\n",
      "71-80       3068\n",
      "81-90        846\n",
      "91-100       193\n",
      "101-110       27\n",
      "111-120        3\n",
      "121-130        1\n",
      "Name: readmitted, dtype: int64\n"
     ]
    },
    {
     "data": {
      "image/png": "[encoded data removed]",
      "text/plain": [
       "<Figure size 800x480 with 1 Axes>"
      ]
     },
     "metadata": {},
     "output_type": "display_data"
    }
   ],
   "source": [
    "bins = [1, 11, 21, 31, 41, 51, 61, 71, 81, 91, 101, 111, 121, 130]\n",
    "labels = ['1-10', '11-20', '21-30', '31-40', '41-50', '51-60', '61-70', '71-80', '81-90', '91-100', '101-110', '111-120', '121-130']\n",
    "\n",
    "hospital['num_lab_pro_grp'] = pd.cut(hospital['num_lab_procedures'], \n",
    "                                     bins=bins, labels=labels)\n",
    "\n",
    "num_lab_pro = hospital.groupby('num_lab_pro_grp')['readmitted'].count()\n",
    "\n",
    "print(num_lab_pro)\n",
    "\n",
    "plt.figure(figsize=(10, 6), dpi=80)\n",
    "sns.barplot(x=num_lab_pro.index, y=num_lab_pro.values, \n",
    "            palette='vlag')\n",
    "\n",
    "plt.title('Number of Lab Procedures vs. Readmissions')\n",
    "plt.xlabel('Number of Lab Procedures')\n",
    "plt.ylabel('Count of Readmissions')\n",
    "plt.tight_layout()\n",
    "plt.show()"
   ]
  },
  {
   "cell_type": "markdown",
   "id": "4c0b99a3",
   "metadata": {
    "papermill": {
     "duration": 0.014666,
     "end_time": "2024-06-15T15:10:02.535358",
     "exception": false,
     "start_time": "2024-06-15T15:10:02.520692",
     "status": "completed"
    },
    "tags": []
   },
   "source": [
    "**7. How do readmission rates vary by race and gender?**"
   ]
  },
  {
   "cell_type": "code",
   "execution_count": 19,
   "id": "7d861be9",
   "metadata": {
    "execution": {
     "iopub.execute_input": "2024-06-15T15:10:02.569428Z",
     "iopub.status.busy": "2024-06-15T15:10:02.569024Z",
     "iopub.status.idle": "2024-06-15T15:10:02.584417Z",
     "shell.execute_reply": "2024-06-15T15:10:02.583214Z"
    },
    "papermill": {
     "duration": 0.035433,
     "end_time": "2024-06-15T15:10:02.586614",
     "exception": false,
     "start_time": "2024-06-15T15:10:02.551181",
     "status": "completed"
    },
    "tags": []
   },
   "outputs": [
    {
     "data": {
      "text/plain": [
       "race\n",
       "Caucasian          49906\n",
       "AfricanAmerican    12406\n",
       "?                   1504\n",
       "Hispanic            1313\n",
       "Other               1050\n",
       "Asian                408\n",
       "Name: count, dtype: int64"
      ]
     },
     "execution_count": 19,
     "metadata": {},
     "output_type": "execute_result"
    }
   ],
   "source": [
    "hospital.race.value_counts()"
   ]
  },
  {
   "cell_type": "code",
   "execution_count": 20,
   "id": "f8fdfb80",
   "metadata": {
    "execution": {
     "iopub.execute_input": "2024-06-15T15:10:02.620156Z",
     "iopub.status.busy": "2024-06-15T15:10:02.619742Z",
     "iopub.status.idle": "2024-06-15T15:10:02.632482Z",
     "shell.execute_reply": "2024-06-15T15:10:02.631312Z"
    },
    "papermill": {
     "duration": 0.032762,
     "end_time": "2024-06-15T15:10:02.635045",
     "exception": false,
     "start_time": "2024-06-15T15:10:02.602283",
     "status": "completed"
    },
    "tags": []
   },
   "outputs": [],
   "source": [
    "hospital['race'] = hospital['race'].replace('?', 'NA')"
   ]
  },
  {
   "cell_type": "code",
   "execution_count": 21,
   "id": "1b12a4e5",
   "metadata": {
    "execution": {
     "iopub.execute_input": "2024-06-15T15:10:02.669272Z",
     "iopub.status.busy": "2024-06-15T15:10:02.668904Z",
     "iopub.status.idle": "2024-06-15T15:10:02.685064Z",
     "shell.execute_reply": "2024-06-15T15:10:02.683797Z"
    },
    "papermill": {
     "duration": 0.035615,
     "end_time": "2024-06-15T15:10:02.687537",
     "exception": false,
     "start_time": "2024-06-15T15:10:02.651922",
     "status": "completed"
    },
    "tags": []
   },
   "outputs": [
    {
     "data": {
      "text/plain": [
       "race\n",
       "Caucasian          49906\n",
       "AfricanAmerican    12406\n",
       "NA                  1504\n",
       "Hispanic            1313\n",
       "Other               1050\n",
       "Asian                408\n",
       "Name: count, dtype: int64"
      ]
     },
     "execution_count": 21,
     "metadata": {},
     "output_type": "execute_result"
    }
   ],
   "source": [
    "hospital.race.value_counts()"
   ]
  },
  {
   "cell_type": "code",
   "execution_count": 22,
   "id": "cecf648b",
   "metadata": {
    "execution": {
     "iopub.execute_input": "2024-06-15T15:10:02.723060Z",
     "iopub.status.busy": "2024-06-15T15:10:02.722657Z",
     "iopub.status.idle": "2024-06-15T15:10:02.761924Z",
     "shell.execute_reply": "2024-06-15T15:10:02.760673Z"
    },
    "papermill": {
     "duration": 0.061072,
     "end_time": "2024-06-15T15:10:02.764268",
     "exception": false,
     "start_time": "2024-06-15T15:10:02.703196",
     "status": "completed"
    },
    "tags": []
   },
   "outputs": [
    {
     "data": {
      "text/html": [
       "<div>                            <div id=\"60315bce-eba0-4f78-ba5f-e48f00d3b9fa\" class=\"plotly-graph-div\" style=\"height:525px; width:100%;\"></div>            <script type=\"text/javascript\">                require([\"plotly\"], function(Plotly) {                    window.PLOTLYENV=window.PLOTLYENV || {};                                    if (document.getElementById(\"60315bce-eba0-4f78-ba5f-e48f00d3b9fa\")) {                    Plotly.newPlot(                        \"60315bce-eba0-4f78-ba5f-e48f00d3b9fa\",                        [{\"name\":\"Female\",\"x\":[\"AfricanAmerican\",\"Asian\",\"Caucasian\",\"Hispanic\",\"NA\",\"Other\"],\"y\":[7565.0,215.0,26198.0,724.0,728.0,543.0],\"type\":\"bar\"},{\"name\":\"Male\",\"x\":[\"AfricanAmerican\",\"Asian\",\"Caucasian\",\"Hispanic\",\"NA\",\"Other\"],\"y\":[4841.0,193.0,23708.0,589.0,775.0,506.0],\"type\":\"bar\"},{\"name\":\"Unknown\\u002fInvalid\",\"x\":[\"AfricanAmerican\",\"Asian\",\"Caucasian\",\"Hispanic\",\"NA\",\"Other\"],\"y\":[null,null,null,null,1.0,1.0],\"type\":\"bar\"}],                        {\"template\":{\"data\":{\"histogram2dcontour\":[{\"type\":\"histogram2dcontour\",\"colorbar\":{\"outlinewidth\":0,\"ticks\":\"\"},\"colorscale\":[[0.0,\"#0d0887\"],[0.1111111111111111,\"#46039f\"],[0.2222222222222222,\"#7201a8\"],[0.3333333333333333,\"#9c179e\"],[0.4444444444444444,\"#bd3786\"],[0.5555555555555556,\"#d8576b\"],[0.6666666666666666,\"#ed7953\"],[0.7777777777777778,\"#fb9f3a\"],[0.8888888888888888,\"#fdca26\"],[1.0,\"#f0f921\"]]}],\"choropleth\":[{\"type\":\"choropleth\",\"colorbar\":{\"outlinewidth\":0,\"ticks\":\"\"}}],\"histogram2d\":[{\"type\":\"histogram2d\",\"colorbar\":{\"outlinewidth\":0,\"ticks\":\"\"},\"colorscale\":[[0.0,\"#0d0887\"],[0.1111111111111111,\"#46039f\"],[0.2222222222222222,\"#7201a8\"],[0.3333333333333333,\"#9c179e\"],[0.4444444444444444,\"#bd3786\"],[0.5555555555555556,\"#d8576b\"],[0.6666666666666666,\"#ed7953\"],[0.7777777777777778,\"#fb9f3a\"],[0.8888888888888888,\"#fdca26\"],[1.0,\"#f0f921\"]]}],\"heatmap\":[{\"type\":\"heatmap\",\"colorbar\":{\"outlinewidth\":0,\"ticks\":\"\"},\"colorscale\":[[0.0,\"#0d0887\"],[0.1111111111111111,\"#46039f\"],[0.2222222222222222,\"#7201a8\"],[0.3333333333333333,\"#9c179e\"],[0.4444444444444444,\"#bd3786\"],[0.5555555555555556,\"#d8576b\"],[0.6666666666666666,\"#ed7953\"],[0.7777777777777778,\"#fb9f3a\"],[0.8888888888888888,\"#fdca26\"],[1.0,\"#f0f921\"]]}],\"heatmapgl\":[{\"type\":\"heatmapgl\",\"colorbar\":{\"outlinewidth\":0,\"ticks\":\"\"},\"colorscale\":[[0.0,\"#0d0887\"],[0.1111111111111111,\"#46039f\"],[0.2222222222222222,\"#7201a8\"],[0.3333333333333333,\"#9c179e\"],[0.4444444444444444,\"#bd3786\"],[0.5555555555555556,\"#d8576b\"],[0.6666666666666666,\"#ed7953\"],[0.7777777777777778,\"#fb9f3a\"],[0.8888888888888888,\"#fdca26\"],[1.0,\"#f0f921\"]]}],\"contourcarpet\":[{\"type\":\"contourcarpet\",\"colorbar\":{\"outlinewidth\":0,\"ticks\":\"\"}}],\"contour\":[{\"type\":\"contour\",\"colorbar\":{\"outlinewidth\":0,\"ticks\":\"\"},\"colorscale\":[[0.0,\"#0d0887\"],[0.1111111111111111,\"#46039f\"],[0.2222222222222222,\"#7201a8\"],[0.3333333333333333,\"#9c179e\"],[0.4444444444444444,\"#bd3786\"],[0.5555555555555556,\"#d8576b\"],[0.6666666666666666,\"#ed7953\"],[0.7777777777777778,\"#fb9f3a\"],[0.8888888888888888,\"#fdca26\"],[1.0,\"#f0f921\"]]}],\"surface\":[{\"type\":\"surface\",\"colorbar\":{\"outlinewidth\":0,\"ticks\":\"\"},\"colorscale\":[[0.0,\"#0d0887\"],[0.1111111111111111,\"#46039f\"],[0.2222222222222222,\"#7201a8\"],[0.3333333333333333,\"#9c179e\"],[0.4444444444444444,\"#bd3786\"],[0.5555555555555556,\"#d8576b\"],[0.6666666666666666,\"#ed7953\"],[0.7777777777777778,\"#fb9f3a\"],[0.8888888888888888,\"#fdca26\"],[1.0,\"#f0f921\"]]}],\"mesh3d\":[{\"type\":\"mesh3d\",\"colorbar\":{\"outlinewidth\":0,\"ticks\":\"\"}}],\"scatter\":[{\"fillpattern\":{\"fillmode\":\"overlay\",\"size\":10,\"solidity\":0.2},\"type\":\"scatter\"}],\"parcoords\":[{\"type\":\"parcoords\",\"line\":{\"colorbar\":{\"outlinewidth\":0,\"ticks\":\"\"}}}],\"scatterpolargl\":[{\"type\":\"scatterpolargl\",\"marker\":{\"colorbar\":{\"outlinewidth\":0,\"ticks\":\"\"}}}],\"bar\":[{\"error_x\":{\"color\":\"#2a3f5f\"},\"error_y\":{\"color\":\"#2a3f5f\"},\"marker\":{\"line\":{\"color\":\"#E5ECF6\",\"width\":0.5},\"pattern\":{\"fillmode\":\"overlay\",\"size\":10,\"solidity\":0.2}},\"type\":\"bar\"}],\"scattergeo\":[{\"type\":\"scattergeo\",\"marker\":{\"colorbar\":{\"outlinewidth\":0,\"ticks\":\"\"}}}],\"scatterpolar\":[{\"type\":\"scatterpolar\",\"marker\":{\"colorbar\":{\"outlinewidth\":0,\"ticks\":\"\"}}}],\"histogram\":[{\"marker\":{\"pattern\":{\"fillmode\":\"overlay\",\"size\":10,\"solidity\":0.2}},\"type\":\"histogram\"}],\"scattergl\":[{\"type\":\"scattergl\",\"marker\":{\"colorbar\":{\"outlinewidth\":0,\"ticks\":\"\"}}}],\"scatter3d\":[{\"type\":\"scatter3d\",\"line\":{\"colorbar\":{\"outlinewidth\":0,\"ticks\":\"\"}},\"marker\":{\"colorbar\":{\"outlinewidth\":0,\"ticks\":\"\"}}}],\"scattermapbox\":[{\"type\":\"scattermapbox\",\"marker\":{\"colorbar\":{\"outlinewidth\":0,\"ticks\":\"\"}}}],\"scatterternary\":[{\"type\":\"scatterternary\",\"marker\":{\"colorbar\":{\"outlinewidth\":0,\"ticks\":\"\"}}}],\"scattercarpet\":[{\"type\":\"scattercarpet\",\"marker\":{\"colorbar\":{\"outlinewidth\":0,\"ticks\":\"\"}}}],\"carpet\":[{\"aaxis\":{\"endlinecolor\":\"#2a3f5f\",\"gridcolor\":\"white\",\"linecolor\":\"white\",\"minorgridcolor\":\"white\",\"startlinecolor\":\"#2a3f5f\"},\"baxis\":{\"endlinecolor\":\"#2a3f5f\",\"gridcolor\":\"white\",\"linecolor\":\"white\",\"minorgridcolor\":\"white\",\"startlinecolor\":\"#2a3f5f\"},\"type\":\"carpet\"}],\"table\":[{\"cells\":{\"fill\":{\"color\":\"#EBF0F8\"},\"line\":{\"color\":\"white\"}},\"header\":{\"fill\":{\"color\":\"#C8D4E3\"},\"line\":{\"color\":\"white\"}},\"type\":\"table\"}],\"barpolar\":[{\"marker\":{\"line\":{\"color\":\"#E5ECF6\",\"width\":0.5},\"pattern\":{\"fillmode\":\"overlay\",\"size\":10,\"solidity\":0.2}},\"type\":\"barpolar\"}],\"pie\":[{\"automargin\":true,\"type\":\"pie\"}]},\"layout\":{\"autotypenumbers\":\"strict\",\"colorway\":[\"#636efa\",\"#EF553B\",\"#00cc96\",\"#ab63fa\",\"#FFA15A\",\"#19d3f3\",\"#FF6692\",\"#B6E880\",\"#FF97FF\",\"#FECB52\"],\"font\":{\"color\":\"#2a3f5f\"},\"hovermode\":\"closest\",\"hoverlabel\":{\"align\":\"left\"},\"paper_bgcolor\":\"white\",\"plot_bgcolor\":\"#E5ECF6\",\"polar\":{\"bgcolor\":\"#E5ECF6\",\"angularaxis\":{\"gridcolor\":\"white\",\"linecolor\":\"white\",\"ticks\":\"\"},\"radialaxis\":{\"gridcolor\":\"white\",\"linecolor\":\"white\",\"ticks\":\"\"}},\"ternary\":{\"bgcolor\":\"#E5ECF6\",\"aaxis\":{\"gridcolor\":\"white\",\"linecolor\":\"white\",\"ticks\":\"\"},\"baxis\":{\"gridcolor\":\"white\",\"linecolor\":\"white\",\"ticks\":\"\"},\"caxis\":{\"gridcolor\":\"white\",\"linecolor\":\"white\",\"ticks\":\"\"}},\"coloraxis\":{\"colorbar\":{\"outlinewidth\":0,\"ticks\":\"\"}},\"colorscale\":{\"sequential\":[[0.0,\"#0d0887\"],[0.1111111111111111,\"#46039f\"],[0.2222222222222222,\"#7201a8\"],[0.3333333333333333,\"#9c179e\"],[0.4444444444444444,\"#bd3786\"],[0.5555555555555556,\"#d8576b\"],[0.6666666666666666,\"#ed7953\"],[0.7777777777777778,\"#fb9f3a\"],[0.8888888888888888,\"#fdca26\"],[1.0,\"#f0f921\"]],\"sequentialminus\":[[0.0,\"#0d0887\"],[0.1111111111111111,\"#46039f\"],[0.2222222222222222,\"#7201a8\"],[0.3333333333333333,\"#9c179e\"],[0.4444444444444444,\"#bd3786\"],[0.5555555555555556,\"#d8576b\"],[0.6666666666666666,\"#ed7953\"],[0.7777777777777778,\"#fb9f3a\"],[0.8888888888888888,\"#fdca26\"],[1.0,\"#f0f921\"]],\"diverging\":[[0,\"#8e0152\"],[0.1,\"#c51b7d\"],[0.2,\"#de77ae\"],[0.3,\"#f1b6da\"],[0.4,\"#fde0ef\"],[0.5,\"#f7f7f7\"],[0.6,\"#e6f5d0\"],[0.7,\"#b8e186\"],[0.8,\"#7fbc41\"],[0.9,\"#4d9221\"],[1,\"#276419\"]]},\"xaxis\":{\"gridcolor\":\"white\",\"linecolor\":\"white\",\"ticks\":\"\",\"title\":{\"standoff\":15},\"zerolinecolor\":\"white\",\"automargin\":true,\"zerolinewidth\":2},\"yaxis\":{\"gridcolor\":\"white\",\"linecolor\":\"white\",\"ticks\":\"\",\"title\":{\"standoff\":15},\"zerolinecolor\":\"white\",\"automargin\":true,\"zerolinewidth\":2},\"scene\":{\"xaxis\":{\"backgroundcolor\":\"#E5ECF6\",\"gridcolor\":\"white\",\"linecolor\":\"white\",\"showbackground\":true,\"ticks\":\"\",\"zerolinecolor\":\"white\",\"gridwidth\":2},\"yaxis\":{\"backgroundcolor\":\"#E5ECF6\",\"gridcolor\":\"white\",\"linecolor\":\"white\",\"showbackground\":true,\"ticks\":\"\",\"zerolinecolor\":\"white\",\"gridwidth\":2},\"zaxis\":{\"backgroundcolor\":\"#E5ECF6\",\"gridcolor\":\"white\",\"linecolor\":\"white\",\"showbackground\":true,\"ticks\":\"\",\"zerolinecolor\":\"white\",\"gridwidth\":2}},\"shapedefaults\":{\"line\":{\"color\":\"#2a3f5f\"}},\"annotationdefaults\":{\"arrowcolor\":\"#2a3f5f\",\"arrowhead\":0,\"arrowwidth\":1},\"geo\":{\"bgcolor\":\"white\",\"landcolor\":\"#E5ECF6\",\"subunitcolor\":\"white\",\"showland\":true,\"showlakes\":true,\"lakecolor\":\"white\"},\"title\":{\"x\":0.05},\"mapbox\":{\"style\":\"light\"}}},\"font\":{\"color\":\"white\"},\"barmode\":\"stack\",\"title\":{\"text\":\"Readmission Rates By Race And Gender\"},\"xaxis\":{\"title\":{\"text\":\"Number of Emergency Visits\"}},\"yaxis\":{\"title\":{\"text\":\"Number of Patients\"}},\"plot_bgcolor\":\"black\",\"paper_bgcolor\":\"black\"},                        {\"responsive\": true}                    ).then(function(){\n",
       "                            \n",
       "var gd = document.getElementById('60315bce-eba0-4f78-ba5f-e48f00d3b9fa');\n",
       "var x = new MutationObserver(function (mutations, observer) {{\n",
       "        var display = window.getComputedStyle(gd).display;\n",
       "        if (!display || display === 'none') {{\n",
       "            console.log([gd, 'removed!']);\n",
       "            Plotly.purge(gd);\n",
       "            observer.disconnect();\n",
       "        }}\n",
       "}});\n",
       "\n",
       "// Listen for the removal of the full notebook cells\n",
       "var notebookContainer = gd.closest('#notebook-container');\n",
       "if (notebookContainer) {{\n",
       "    x.observe(notebookContainer, {childList: true});\n",
       "}}\n",
       "\n",
       "// Listen for the clearing of the current output cell\n",
       "var outputEl = gd.closest('.output');\n",
       "if (outputEl) {{\n",
       "    x.observe(outputEl, {childList: true});\n",
       "}}\n",
       "\n",
       "                        })                };                });            </script>        </div>"
      ]
     },
     "metadata": {},
     "output_type": "display_data"
    }
   ],
   "source": [
    "pivot_table = hospital.pivot_table(index='race', columns='gender', values='readmitted', aggfunc='count')\n",
    "pivot_table\n",
    "\n",
    "fig = go.Figure()\n",
    "\n",
    "for col in pivot_table.columns:\n",
    "    fig.add_trace(go.Bar(\n",
    "        name=col,\n",
    "        x=pivot_table.index,\n",
    "        y=pivot_table[col],\n",
    "    ))\n",
    "\n",
    "fig.update_layout(\n",
    "    barmode='stack',\n",
    "    title='Readmission Rates By Race And Gender',\n",
    "    xaxis_title='Number of Emergency Visits',\n",
    "    yaxis_title='Number of Patients',\n",
    "    plot_bgcolor='black',  \n",
    "    paper_bgcolor='black', \n",
    "    font=dict(color='white')  \n",
    ")\n",
    "\n",
    "fig.show()"
   ]
  },
  {
   "cell_type": "markdown",
   "id": "59dad969",
   "metadata": {
    "papermill": {
     "duration": 0.015044,
     "end_time": "2024-06-15T15:10:02.794508",
     "exception": false,
     "start_time": "2024-06-15T15:10:02.779464",
     "status": "completed"
    },
    "tags": []
   },
   "source": [
    "**8. What is the distribution of patients across different weight categories, and how does this relate to readmission rates?**"
   ]
  },
  {
   "cell_type": "code",
   "execution_count": 23,
   "id": "800787a6",
   "metadata": {
    "execution": {
     "iopub.execute_input": "2024-06-15T15:10:02.827754Z",
     "iopub.status.busy": "2024-06-15T15:10:02.826753Z",
     "iopub.status.idle": "2024-06-15T15:10:02.838346Z",
     "shell.execute_reply": "2024-06-15T15:10:02.837197Z"
    },
    "papermill": {
     "duration": 0.03114,
     "end_time": "2024-06-15T15:10:02.840631",
     "exception": false,
     "start_time": "2024-06-15T15:10:02.809491",
     "status": "completed"
    },
    "tags": []
   },
   "outputs": [
    {
     "data": {
      "text/plain": [
       "array(['?', '[0-25)', '[75-100)', '[50-75)', '[25-50)', '[125-150)',\n",
       "       '[150-175)', '[100-125)', '>200', '[175-200)'], dtype=object)"
      ]
     },
     "execution_count": 23,
     "metadata": {},
     "output_type": "execute_result"
    }
   ],
   "source": [
    "hospital.weight.unique()"
   ]
  },
  {
   "cell_type": "code",
   "execution_count": 24,
   "id": "98494b8c",
   "metadata": {
    "execution": {
     "iopub.execute_input": "2024-06-15T15:10:02.873590Z",
     "iopub.status.busy": "2024-06-15T15:10:02.873176Z",
     "iopub.status.idle": "2024-06-15T15:10:02.887896Z",
     "shell.execute_reply": "2024-06-15T15:10:02.886132Z"
    },
    "papermill": {
     "duration": 0.034631,
     "end_time": "2024-06-15T15:10:02.890752",
     "exception": false,
     "start_time": "2024-06-15T15:10:02.856121",
     "status": "completed"
    },
    "tags": []
   },
   "outputs": [],
   "source": [
    "hospital['weight'] = hospital['weight'].replace('?', 'NA')"
   ]
  },
  {
   "cell_type": "code",
   "execution_count": 25,
   "id": "e04bc6d1",
   "metadata": {
    "execution": {
     "iopub.execute_input": "2024-06-15T15:10:02.923691Z",
     "iopub.status.busy": "2024-06-15T15:10:02.923301Z",
     "iopub.status.idle": "2024-06-15T15:10:02.934412Z",
     "shell.execute_reply": "2024-06-15T15:10:02.933277Z"
    },
    "papermill": {
     "duration": 0.030697,
     "end_time": "2024-06-15T15:10:02.936835",
     "exception": false,
     "start_time": "2024-06-15T15:10:02.906138",
     "status": "completed"
    },
    "tags": []
   },
   "outputs": [
    {
     "data": {
      "text/plain": [
       "array(['NA', '[0-25)', '[75-100)', '[50-75)', '[25-50)', '[125-150)',\n",
       "       '[150-175)', '[100-125)', '>200', '[175-200)'], dtype=object)"
      ]
     },
     "execution_count": 25,
     "metadata": {},
     "output_type": "execute_result"
    }
   ],
   "source": [
    "hospital.weight.unique()"
   ]
  },
  {
   "cell_type": "code",
   "execution_count": 26,
   "id": "14abca0f",
   "metadata": {
    "execution": {
     "iopub.execute_input": "2024-06-15T15:10:02.972074Z",
     "iopub.status.busy": "2024-06-15T15:10:02.970843Z",
     "iopub.status.idle": "2024-06-15T15:10:02.986343Z",
     "shell.execute_reply": "2024-06-15T15:10:02.984766Z"
    },
    "papermill": {
     "duration": 0.035448,
     "end_time": "2024-06-15T15:10:02.989148",
     "exception": false,
     "start_time": "2024-06-15T15:10:02.953700",
     "status": "completed"
    },
    "tags": []
   },
   "outputs": [
    {
     "data": {
      "text/plain": [
       "weight\n",
       ">200             4\n",
       "NA           64454\n",
       "[0-25)          26\n",
       "[100-125)      416\n",
       "[125-150)      104\n",
       "[150-175)       20\n",
       "[175-200)        8\n",
       "[25-50)         52\n",
       "[50-75)        603\n",
       "[75-100)       900\n",
       "Name: readmitted, dtype: int64"
      ]
     },
     "execution_count": 26,
     "metadata": {},
     "output_type": "execute_result"
    }
   ],
   "source": [
    "hospital.groupby('weight')['readmitted'].count()"
   ]
  },
  {
   "cell_type": "markdown",
   "id": "aaeca6bf",
   "metadata": {
    "papermill": {
     "duration": 0.016811,
     "end_time": "2024-06-15T15:10:03.024156",
     "exception": false,
     "start_time": "2024-06-15T15:10:03.007345",
     "status": "completed"
    },
    "tags": []
   },
   "source": [
    "**9. Evaluate the impact of the number of medications prescribes on the length of hospital stay.**"
   ]
  },
  {
   "cell_type": "code",
   "execution_count": 27,
   "id": "49a83a1b",
   "metadata": {
    "execution": {
     "iopub.execute_input": "2024-06-15T15:10:03.059572Z",
     "iopub.status.busy": "2024-06-15T15:10:03.059191Z",
     "iopub.status.idle": "2024-06-15T15:10:03.072249Z",
     "shell.execute_reply": "2024-06-15T15:10:03.070702Z"
    },
    "papermill": {
     "duration": 0.033073,
     "end_time": "2024-06-15T15:10:03.074828",
     "exception": false,
     "start_time": "2024-06-15T15:10:03.041755",
     "status": "completed"
    },
    "tags": []
   },
   "outputs": [
    {
     "name": "stdout",
     "output_type": "stream",
     "text": [
      "\n",
      "Correlation between Number Of Medications and Time in Hospital: 0.94\n"
     ]
    }
   ],
   "source": [
    "grouped_dt = hospital.groupby('num_medications')['time_in_hospital'].mean().reset_index()\n",
    "\n",
    "correlation = grouped_dt['num_medications'].corr(grouped_dt['time_in_hospital']).round(decimals=2)\n",
    "print(\"\\nCorrelation between Number Of Medications and Time in Hospital:\", correlation)"
   ]
  },
  {
   "cell_type": "code",
   "execution_count": 28,
   "id": "f455dfd4",
   "metadata": {
    "execution": {
     "iopub.execute_input": "2024-06-15T15:10:03.108899Z",
     "iopub.status.busy": "2024-06-15T15:10:03.108477Z",
     "iopub.status.idle": "2024-06-15T15:10:03.487495Z",
     "shell.execute_reply": "2024-06-15T15:10:03.486359Z"
    },
    "papermill": {
     "duration": 0.399186,
     "end_time": "2024-06-15T15:10:03.489888",
     "exception": false,
     "start_time": "2024-06-15T15:10:03.090702",
     "status": "completed"
    },
    "tags": []
   },
   "outputs": [
    {
     "data": {
      "image/png": "[encoded data removed]",
      "text/plain": [
       "<Figure size 1360x480 with 1 Axes>"
      ]
     },
     "metadata": {},
     "output_type": "display_data"
    }
   ],
   "source": [
    "grouped_data = hospital.groupby('num_medications')['time_in_hospital'].mean()\n",
    "plt.figure(figsize=(17,6), dpi=80)\n",
    "sns.lineplot(x=grouped_data.index, y=grouped_data.values, color='lime')\n",
    "plt.title('Correlation between Number Of Medication Prescribed and Time in Hospital', size=13)\n",
    "plt.ylabel('Time in hospital')\n",
    "plt.show()"
   ]
  },
  {
   "cell_type": "markdown",
   "id": "3346a86a",
   "metadata": {
    "papermill": {
     "duration": 0.017727,
     "end_time": "2024-06-15T15:10:03.524995",
     "exception": false,
     "start_time": "2024-06-15T15:10:03.507268",
     "status": "completed"
    },
    "tags": []
   },
   "source": [
    "**The analysis below does the same thing as the correlation above, but it's done using regression.**\n",
    "**The provided output is derived from the implementation of regression analysis using the Regression module from `scipy.stats`, achieved through the importation of the `linregress` function.**"
   ]
  },
  {
   "cell_type": "code",
   "execution_count": 29,
   "id": "a7822b28",
   "metadata": {
    "execution": {
     "iopub.execute_input": "2024-06-15T15:10:03.561600Z",
     "iopub.status.busy": "2024-06-15T15:10:03.560851Z",
     "iopub.status.idle": "2024-06-15T15:10:03.570752Z",
     "shell.execute_reply": "2024-06-15T15:10:03.569559Z"
    },
    "papermill": {
     "duration": 0.030744,
     "end_time": "2024-06-15T15:10:03.573431",
     "exception": false,
     "start_time": "2024-06-15T15:10:03.542687",
     "status": "completed"
    },
    "tags": []
   },
   "outputs": [
    {
     "name": "stdout",
     "output_type": "stream",
     "text": [
      "Slope: 0.11872055463422464\n",
      "Intercept: 2.69218946423484\n",
      "Correlation coefficient (r-value): 0.9428690757427864\n",
      "P-value: 1.1724389938401866e-34\n",
      "Standard error: 0.00505018598633047\n"
     ]
    }
   ],
   "source": [
    "from scipy.stats import linregress\n",
    "\n",
    "slope, intercept, r_value, p_value, std_err = linregress(grouped_dt['num_medications'], grouped_dt['time_in_hospital'])\n",
    "\n",
    "print(\"Slope:\", slope)\n",
    "print(\"Intercept:\", intercept)\n",
    "print(\"Correlation coefficient (r-value):\", r_value)\n",
    "print(\"P-value:\", p_value)\n",
    "print(\"Standard error:\", std_err)"
   ]
  },
  {
   "cell_type": "code",
   "execution_count": null,
   "id": "897e58fc",
   "metadata": {
    "papermill": {
     "duration": 0.016193,
     "end_time": "2024-06-15T15:10:03.606086",
     "exception": false,
     "start_time": "2024-06-15T15:10:03.589893",
     "status": "completed"
    },
    "tags": []
   },
   "outputs": [],
   "source": []
  },
  {
   "cell_type": "code",
   "execution_count": 30,
   "id": "f98af9a1",
   "metadata": {
    "execution": {
     "iopub.execute_input": "2024-06-15T15:10:03.640712Z",
     "iopub.status.busy": "2024-06-15T15:10:03.640310Z",
     "iopub.status.idle": "2024-06-15T15:10:03.722482Z",
     "shell.execute_reply": "2024-06-15T15:10:03.721168Z"
    },
    "papermill": {
     "duration": 0.102289,
     "end_time": "2024-06-15T15:10:03.724914",
     "exception": false,
     "start_time": "2024-06-15T15:10:03.622625",
     "status": "completed"
    },
    "tags": []
   },
   "outputs": [
    {
     "data": {
      "text/html": [
       "<div>\n",
       "<style scoped>\n",
       "    .dataframe tbody tr th:only-of-type {\n",
       "        vertical-align: middle;\n",
       "    }\n",
       "\n",
       "    .dataframe tbody tr th {\n",
       "        vertical-align: top;\n",
       "    }\n",
       "\n",
       "    .dataframe thead th {\n",
       "        text-align: right;\n",
       "    }\n",
       "</style>\n",
       "<table border=\"1\" class=\"dataframe\">\n",
       "  <thead>\n",
       "    <tr style=\"text-align: right;\">\n",
       "      <th></th>\n",
       "      <th>index</th>\n",
       "      <th>encounter_id</th>\n",
       "      <th>patient_id</th>\n",
       "      <th>race</th>\n",
       "      <th>gender</th>\n",
       "      <th>age</th>\n",
       "      <th>weight</th>\n",
       "      <th>time_in_hospital</th>\n",
       "      <th>medical_specialty</th>\n",
       "      <th>num_lab_procedures</th>\n",
       "      <th>...</th>\n",
       "      <th>X20</th>\n",
       "      <th>X21</th>\n",
       "      <th>X22</th>\n",
       "      <th>X23</th>\n",
       "      <th>X24</th>\n",
       "      <th>X25</th>\n",
       "      <th>change</th>\n",
       "      <th>diabetesMed</th>\n",
       "      <th>readmitted</th>\n",
       "      <th>num_lab_pro_grp</th>\n",
       "    </tr>\n",
       "  </thead>\n",
       "  <tbody>\n",
       "    <tr>\n",
       "      <th>0</th>\n",
       "      <td>69375</td>\n",
       "      <td>197029140</td>\n",
       "      <td>51521940</td>\n",
       "      <td>Hispanic</td>\n",
       "      <td>Male</td>\n",
       "      <td>[80-90)</td>\n",
       "      <td>NA</td>\n",
       "      <td>4</td>\n",
       "      <td>Emergency/Trauma</td>\n",
       "      <td>39</td>\n",
       "      <td>...</td>\n",
       "      <td>No</td>\n",
       "      <td>No</td>\n",
       "      <td>No</td>\n",
       "      <td>No</td>\n",
       "      <td>No</td>\n",
       "      <td>No</td>\n",
       "      <td>No</td>\n",
       "      <td>Yes</td>\n",
       "      <td>1</td>\n",
       "      <td>31-40</td>\n",
       "    </tr>\n",
       "    <tr>\n",
       "      <th>1</th>\n",
       "      <td>57272</td>\n",
       "      <td>163571946</td>\n",
       "      <td>92631357</td>\n",
       "      <td>Caucasian</td>\n",
       "      <td>Male</td>\n",
       "      <td>[60-70)</td>\n",
       "      <td>NA</td>\n",
       "      <td>3</td>\n",
       "      <td>Emergency/Trauma</td>\n",
       "      <td>34</td>\n",
       "      <td>...</td>\n",
       "      <td>No</td>\n",
       "      <td>No</td>\n",
       "      <td>No</td>\n",
       "      <td>No</td>\n",
       "      <td>No</td>\n",
       "      <td>No</td>\n",
       "      <td>No</td>\n",
       "      <td>No</td>\n",
       "      <td>0</td>\n",
       "      <td>31-40</td>\n",
       "    </tr>\n",
       "    <tr>\n",
       "      <th>2</th>\n",
       "      <td>82347</td>\n",
       "      <td>256497366</td>\n",
       "      <td>30023982</td>\n",
       "      <td>Caucasian</td>\n",
       "      <td>Female</td>\n",
       "      <td>[50-60)</td>\n",
       "      <td>NA</td>\n",
       "      <td>6</td>\n",
       "      <td>Nephrology</td>\n",
       "      <td>50</td>\n",
       "      <td>...</td>\n",
       "      <td>Down</td>\n",
       "      <td>No</td>\n",
       "      <td>No</td>\n",
       "      <td>No</td>\n",
       "      <td>No</td>\n",
       "      <td>No</td>\n",
       "      <td>Ch</td>\n",
       "      <td>Yes</td>\n",
       "      <td>1</td>\n",
       "      <td>41-50</td>\n",
       "    </tr>\n",
       "    <tr>\n",
       "      <th>3</th>\n",
       "      <td>89608</td>\n",
       "      <td>289891212</td>\n",
       "      <td>93606021</td>\n",
       "      <td>AfricanAmerican</td>\n",
       "      <td>Female</td>\n",
       "      <td>[70-80)</td>\n",
       "      <td>NA</td>\n",
       "      <td>5</td>\n",
       "      <td>?</td>\n",
       "      <td>63</td>\n",
       "      <td>...</td>\n",
       "      <td>Down</td>\n",
       "      <td>No</td>\n",
       "      <td>No</td>\n",
       "      <td>No</td>\n",
       "      <td>No</td>\n",
       "      <td>No</td>\n",
       "      <td>Ch</td>\n",
       "      <td>Yes</td>\n",
       "      <td>1</td>\n",
       "      <td>61-70</td>\n",
       "    </tr>\n",
       "    <tr>\n",
       "      <th>4</th>\n",
       "      <td>24091</td>\n",
       "      <td>81873900</td>\n",
       "      <td>23464296</td>\n",
       "      <td>Caucasian</td>\n",
       "      <td>Male</td>\n",
       "      <td>[70-80)</td>\n",
       "      <td>NA</td>\n",
       "      <td>9</td>\n",
       "      <td>Psychiatry</td>\n",
       "      <td>17</td>\n",
       "      <td>...</td>\n",
       "      <td>No</td>\n",
       "      <td>No</td>\n",
       "      <td>No</td>\n",
       "      <td>No</td>\n",
       "      <td>No</td>\n",
       "      <td>No</td>\n",
       "      <td>No</td>\n",
       "      <td>No</td>\n",
       "      <td>1</td>\n",
       "      <td>11-20</td>\n",
       "    </tr>\n",
       "    <tr>\n",
       "      <th>...</th>\n",
       "      <td>...</td>\n",
       "      <td>...</td>\n",
       "      <td>...</td>\n",
       "      <td>...</td>\n",
       "      <td>...</td>\n",
       "      <td>...</td>\n",
       "      <td>...</td>\n",
       "      <td>...</td>\n",
       "      <td>...</td>\n",
       "      <td>...</td>\n",
       "      <td>...</td>\n",
       "      <td>...</td>\n",
       "      <td>...</td>\n",
       "      <td>...</td>\n",
       "      <td>...</td>\n",
       "      <td>...</td>\n",
       "      <td>...</td>\n",
       "      <td>...</td>\n",
       "      <td>...</td>\n",
       "      <td>...</td>\n",
       "      <td>...</td>\n",
       "    </tr>\n",
       "    <tr>\n",
       "      <th>66582</th>\n",
       "      <td>39934</td>\n",
       "      <td>124202466</td>\n",
       "      <td>23450508</td>\n",
       "      <td>Caucasian</td>\n",
       "      <td>Female</td>\n",
       "      <td>[70-80)</td>\n",
       "      <td>NA</td>\n",
       "      <td>11</td>\n",
       "      <td>InternalMedicine</td>\n",
       "      <td>40</td>\n",
       "      <td>...</td>\n",
       "      <td>Steady</td>\n",
       "      <td>No</td>\n",
       "      <td>No</td>\n",
       "      <td>No</td>\n",
       "      <td>No</td>\n",
       "      <td>No</td>\n",
       "      <td>No</td>\n",
       "      <td>Yes</td>\n",
       "      <td>0</td>\n",
       "      <td>31-40</td>\n",
       "    </tr>\n",
       "    <tr>\n",
       "      <th>66583</th>\n",
       "      <td>47366</td>\n",
       "      <td>145667070</td>\n",
       "      <td>29324601</td>\n",
       "      <td>Caucasian</td>\n",
       "      <td>Male</td>\n",
       "      <td>[80-90)</td>\n",
       "      <td>NA</td>\n",
       "      <td>4</td>\n",
       "      <td>?</td>\n",
       "      <td>39</td>\n",
       "      <td>...</td>\n",
       "      <td>No</td>\n",
       "      <td>No</td>\n",
       "      <td>No</td>\n",
       "      <td>No</td>\n",
       "      <td>No</td>\n",
       "      <td>No</td>\n",
       "      <td>No</td>\n",
       "      <td>No</td>\n",
       "      <td>1</td>\n",
       "      <td>31-40</td>\n",
       "    </tr>\n",
       "    <tr>\n",
       "      <th>66584</th>\n",
       "      <td>76555</td>\n",
       "      <td>231061116</td>\n",
       "      <td>2179062</td>\n",
       "      <td>Caucasian</td>\n",
       "      <td>Female</td>\n",
       "      <td>[60-70)</td>\n",
       "      <td>NA</td>\n",
       "      <td>2</td>\n",
       "      <td>?</td>\n",
       "      <td>24</td>\n",
       "      <td>...</td>\n",
       "      <td>No</td>\n",
       "      <td>No</td>\n",
       "      <td>No</td>\n",
       "      <td>No</td>\n",
       "      <td>No</td>\n",
       "      <td>No</td>\n",
       "      <td>No</td>\n",
       "      <td>Yes</td>\n",
       "      <td>1</td>\n",
       "      <td>21-30</td>\n",
       "    </tr>\n",
       "    <tr>\n",
       "      <th>66585</th>\n",
       "      <td>25392</td>\n",
       "      <td>84911682</td>\n",
       "      <td>20531754</td>\n",
       "      <td>NA</td>\n",
       "      <td>Female</td>\n",
       "      <td>[80-90)</td>\n",
       "      <td>NA</td>\n",
       "      <td>4</td>\n",
       "      <td>InternalMedicine</td>\n",
       "      <td>39</td>\n",
       "      <td>...</td>\n",
       "      <td>No</td>\n",
       "      <td>No</td>\n",
       "      <td>No</td>\n",
       "      <td>No</td>\n",
       "      <td>No</td>\n",
       "      <td>No</td>\n",
       "      <td>No</td>\n",
       "      <td>No</td>\n",
       "      <td>0</td>\n",
       "      <td>31-40</td>\n",
       "    </tr>\n",
       "    <tr>\n",
       "      <th>66586</th>\n",
       "      <td>51312</td>\n",
       "      <td>153167502</td>\n",
       "      <td>81985473</td>\n",
       "      <td>Caucasian</td>\n",
       "      <td>Female</td>\n",
       "      <td>[80-90)</td>\n",
       "      <td>NA</td>\n",
       "      <td>2</td>\n",
       "      <td>?</td>\n",
       "      <td>38</td>\n",
       "      <td>...</td>\n",
       "      <td>Steady</td>\n",
       "      <td>No</td>\n",
       "      <td>No</td>\n",
       "      <td>No</td>\n",
       "      <td>No</td>\n",
       "      <td>No</td>\n",
       "      <td>Ch</td>\n",
       "      <td>Yes</td>\n",
       "      <td>1</td>\n",
       "      <td>31-40</td>\n",
       "    </tr>\n",
       "  </tbody>\n",
       "</table>\n",
       "<p>66587 rows × 50 columns</p>\n",
       "</div>"
      ],
      "text/plain": [
       "       index  encounter_id  patient_id             race  gender      age  \\\n",
       "0      69375     197029140    51521940         Hispanic    Male  [80-90)   \n",
       "1      57272     163571946    92631357        Caucasian    Male  [60-70)   \n",
       "2      82347     256497366    30023982        Caucasian  Female  [50-60)   \n",
       "3      89608     289891212    93606021  AfricanAmerican  Female  [70-80)   \n",
       "4      24091      81873900    23464296        Caucasian    Male  [70-80)   \n",
       "...      ...           ...         ...              ...     ...      ...   \n",
       "66582  39934     124202466    23450508        Caucasian  Female  [70-80)   \n",
       "66583  47366     145667070    29324601        Caucasian    Male  [80-90)   \n",
       "66584  76555     231061116     2179062        Caucasian  Female  [60-70)   \n",
       "66585  25392      84911682    20531754               NA  Female  [80-90)   \n",
       "66586  51312     153167502    81985473        Caucasian  Female  [80-90)   \n",
       "\n",
       "      weight  time_in_hospital medical_specialty  num_lab_procedures  ...  \\\n",
       "0         NA                 4  Emergency/Trauma                  39  ...   \n",
       "1         NA                 3  Emergency/Trauma                  34  ...   \n",
       "2         NA                 6        Nephrology                  50  ...   \n",
       "3         NA                 5                 ?                  63  ...   \n",
       "4         NA                 9        Psychiatry                  17  ...   \n",
       "...      ...               ...               ...                 ...  ...   \n",
       "66582     NA                11  InternalMedicine                  40  ...   \n",
       "66583     NA                 4                 ?                  39  ...   \n",
       "66584     NA                 2                 ?                  24  ...   \n",
       "66585     NA                 4  InternalMedicine                  39  ...   \n",
       "66586     NA                 2                 ?                  38  ...   \n",
       "\n",
       "          X20  X21  X22  X23  X24 X25 change diabetesMed readmitted  \\\n",
       "0          No   No   No   No   No  No     No         Yes          1   \n",
       "1          No   No   No   No   No  No     No          No          0   \n",
       "2        Down   No   No   No   No  No     Ch         Yes          1   \n",
       "3        Down   No   No   No   No  No     Ch         Yes          1   \n",
       "4          No   No   No   No   No  No     No          No          1   \n",
       "...       ...  ...  ...  ...  ...  ..    ...         ...        ...   \n",
       "66582  Steady   No   No   No   No  No     No         Yes          0   \n",
       "66583      No   No   No   No   No  No     No          No          1   \n",
       "66584      No   No   No   No   No  No     No         Yes          1   \n",
       "66585      No   No   No   No   No  No     No          No          0   \n",
       "66586  Steady   No   No   No   No  No     Ch         Yes          1   \n",
       "\n",
       "       num_lab_pro_grp  \n",
       "0                31-40  \n",
       "1                31-40  \n",
       "2                41-50  \n",
       "3                61-70  \n",
       "4                11-20  \n",
       "...                ...  \n",
       "66582            31-40  \n",
       "66583            31-40  \n",
       "66584            21-30  \n",
       "66585            31-40  \n",
       "66586            31-40  \n",
       "\n",
       "[66587 rows x 50 columns]"
      ]
     },
     "execution_count": 30,
     "metadata": {},
     "output_type": "execute_result"
    }
   ],
   "source": [
    "hospital"
   ]
  },
  {
   "cell_type": "code",
   "execution_count": 31,
   "id": "21b1f2d4",
   "metadata": {
    "execution": {
     "iopub.execute_input": "2024-06-15T15:10:03.761289Z",
     "iopub.status.busy": "2024-06-15T15:10:03.760921Z",
     "iopub.status.idle": "2024-06-15T15:10:03.767182Z",
     "shell.execute_reply": "2024-06-15T15:10:03.765417Z"
    },
    "papermill": {
     "duration": 0.027716,
     "end_time": "2024-06-15T15:10:03.770327",
     "exception": false,
     "start_time": "2024-06-15T15:10:03.742611",
     "status": "completed"
    },
    "tags": []
   },
   "outputs": [],
   "source": [
    "# hospital.to_csv('Hospital Administration Data.csv')"
   ]
  },
  {
   "cell_type": "code",
   "execution_count": null,
   "id": "3dafe100",
   "metadata": {
    "papermill": {
     "duration": 0.017438,
     "end_time": "2024-06-15T15:10:03.805778",
     "exception": false,
     "start_time": "2024-06-15T15:10:03.788340",
     "status": "completed"
    },
    "tags": []
   },
   "outputs": [],
   "source": []
  }
 ],
 "metadata": {
  "kaggle": {
   "accelerator": "none",
   "dataSources": [
    {
     "datasetId": 4551437,
     "sourceId": 7778187,
     "sourceType": "datasetVersion"
    }
   ],
   "dockerImageVersionId": 30732,
   "isGpuEnabled": false,
   "isInternetEnabled": true,
   "language": "python",
   "sourceType": "notebook"
  },
  "kernelspec": {
   "display_name": "Python 3",
   "language": "python",
   "name": "python3"
  },
  "language_info": {
   "codemirror_mode": {
    "name": "ipython",
    "version": 3
   },
   "file_extension": ".py",
   "mimetype": "text/x-python",
   "name": "python",
   "nbconvert_exporter": "python",
   "pygments_lexer": "ipython3",
   "version": "3.10.13"
  },
  "papermill": {
   "default_parameters": {},
   "duration": 15.414875,
   "end_time": "2024-06-15T15:10:04.646402",
   "environment_variables": {},
   "exception": null,
   "input_path": "__notebook__.ipynb",
   "output_path": "__notebook__.ipynb",
   "parameters": {},
   "start_time": "2024-06-15T15:09:49.231527",
   "version": "2.5.0"
  }
 },
 "nbformat": 4,
 "nbformat_minor": 5
}
